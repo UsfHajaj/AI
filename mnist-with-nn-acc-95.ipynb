{
 "cells": [
  {
   "cell_type": "code",
   "execution_count": 1,
   "id": "02a3f8c7",
   "metadata": {
    "_cell_guid": "b1076dfc-b9ad-4769-8c92-a6c4dae69d19",
    "_uuid": "8f2839f25d086af736a60e9eeb907d3b93b6e0e5",
    "execution": {
     "iopub.execute_input": "2023-08-08T15:18:03.015619Z",
     "iopub.status.busy": "2023-08-08T15:18:03.015193Z",
     "iopub.status.idle": "2023-08-08T15:18:03.026460Z",
     "shell.execute_reply": "2023-08-08T15:18:03.025323Z"
    },
    "papermill": {
     "duration": 0.019885,
     "end_time": "2023-08-08T15:18:03.028995",
     "exception": false,
     "start_time": "2023-08-08T15:18:03.009110",
     "status": "completed"
    },
    "tags": []
   },
   "outputs": [],
   "source": [
    "# This Python 3 environment comes with many helpful analytics libraries installed\n",
    "# It is defined by the kaggle/python Docker image: https://github.com/kaggle/docker-python\n",
    "# For example, here's several helpful packages to load\n",
    "\n",
    "import numpy as np # linear algebra\n",
    "import pandas as pd # data processing, CSV file I/O (e.g. pd.read_csv)\n",
    "\n",
    "# Input data files are available in the read-only \"../input/\" directory\n",
    "# For example, running this (by clicking run or pressing Shift+Enter) will list all files under the input directory\n",
    "\n",
    "import os\n",
    "for dirname, _, filenames in os.walk('/kaggle/input'):\n",
    "    for filename in filenames:\n",
    "        print(os.path.join(dirname, filename))\n",
    "\n",
    "# You can write up to 20GB to the current directory (/kaggle/working/) that gets preserved as output when you create a version using \"Save & Run All\" \n",
    "# You can also write temporary files to /kaggle/temp/, but they won't be saved outside of the current session"
   ]
  },
  {
   "cell_type": "code",
   "execution_count": 2,
   "id": "b19c4a7c",
   "metadata": {
    "execution": {
     "iopub.execute_input": "2023-08-08T15:18:03.038797Z",
     "iopub.status.busy": "2023-08-08T15:18:03.038154Z",
     "iopub.status.idle": "2023-08-08T15:18:16.297674Z",
     "shell.execute_reply": "2023-08-08T15:18:16.296127Z"
    },
    "papermill": {
     "duration": 13.267762,
     "end_time": "2023-08-08T15:18:16.300776",
     "exception": false,
     "start_time": "2023-08-08T15:18:03.033014",
     "status": "completed"
    },
    "tags": []
   },
   "outputs": [
    {
     "name": "stderr",
     "output_type": "stream",
     "text": [
      "/opt/conda/lib/python3.10/site-packages/scipy/__init__.py:146: UserWarning: A NumPy version >=1.16.5 and <1.23.0 is required for this version of SciPy (detected version 1.23.5\n",
      "  warnings.warn(f\"A NumPy version >={np_minversion} and <{np_maxversion}\"\n",
      "/opt/conda/lib/python3.10/site-packages/tensorflow_io/python/ops/__init__.py:98: UserWarning: unable to load libtensorflow_io_plugins.so: unable to open file: libtensorflow_io_plugins.so, from paths: ['/opt/conda/lib/python3.10/site-packages/tensorflow_io/python/ops/libtensorflow_io_plugins.so']\n",
      "caused by: ['/opt/conda/lib/python3.10/site-packages/tensorflow_io/python/ops/libtensorflow_io_plugins.so: undefined symbol: _ZN3tsl6StatusC1EN10tensorflow5error4CodeESt17basic_string_viewIcSt11char_traitsIcEENS_14SourceLocationE']\n",
      "  warnings.warn(f\"unable to load libtensorflow_io_plugins.so: {e}\")\n",
      "/opt/conda/lib/python3.10/site-packages/tensorflow_io/python/ops/__init__.py:104: UserWarning: file system plugins are not loaded: unable to open file: libtensorflow_io.so, from paths: ['/opt/conda/lib/python3.10/site-packages/tensorflow_io/python/ops/libtensorflow_io.so']\n",
      "caused by: ['/opt/conda/lib/python3.10/site-packages/tensorflow_io/python/ops/libtensorflow_io.so: undefined symbol: _ZTVN10tensorflow13GcsFileSystemE']\n",
      "  warnings.warn(f\"file system plugins are not loaded: {e}\")\n"
     ]
    }
   ],
   "source": [
    "import numpy as np\n",
    "import matplotlib.pyplot as plt\n",
    "import tensorflow as tf\n",
    "import keras\n",
    "from sklearn.model_selection import train_test_split\n"
   ]
  },
  {
   "cell_type": "code",
   "execution_count": 3,
   "id": "a1886c25",
   "metadata": {
    "execution": {
     "iopub.execute_input": "2023-08-08T15:18:16.311176Z",
     "iopub.status.busy": "2023-08-08T15:18:16.309790Z",
     "iopub.status.idle": "2023-08-08T15:18:16.315202Z",
     "shell.execute_reply": "2023-08-08T15:18:16.314137Z"
    },
    "papermill": {
     "duration": 0.012577,
     "end_time": "2023-08-08T15:18:16.317398",
     "exception": false,
     "start_time": "2023-08-08T15:18:16.304821",
     "status": "completed"
    },
    "tags": []
   },
   "outputs": [],
   "source": [
    "mnist=tf.keras.datasets.mnist"
   ]
  },
  {
   "cell_type": "code",
   "execution_count": 4,
   "id": "693ce6b5",
   "metadata": {
    "execution": {
     "iopub.execute_input": "2023-08-08T15:18:16.326613Z",
     "iopub.status.busy": "2023-08-08T15:18:16.326014Z",
     "iopub.status.idle": "2023-08-08T15:18:17.612213Z",
     "shell.execute_reply": "2023-08-08T15:18:17.611359Z"
    },
    "papermill": {
     "duration": 1.293633,
     "end_time": "2023-08-08T15:18:17.614760",
     "exception": false,
     "start_time": "2023-08-08T15:18:16.321127",
     "status": "completed"
    },
    "tags": []
   },
   "outputs": [
    {
     "name": "stdout",
     "output_type": "stream",
     "text": [
      "Downloading data from https://storage.googleapis.com/tensorflow/tf-keras-datasets/mnist.npz\n",
      "11490434/11490434 [==============================] - 1s 0us/step\n"
     ]
    }
   ],
   "source": [
    "(x_train,y_train),(x_test,y_test)=mnist.load_data()"
   ]
  },
  {
   "cell_type": "code",
   "execution_count": 5,
   "id": "507769ec",
   "metadata": {
    "execution": {
     "iopub.execute_input": "2023-08-08T15:18:17.626605Z",
     "iopub.status.busy": "2023-08-08T15:18:17.625872Z",
     "iopub.status.idle": "2023-08-08T15:18:17.931173Z",
     "shell.execute_reply": "2023-08-08T15:18:17.929189Z"
    },
    "papermill": {
     "duration": 0.314166,
     "end_time": "2023-08-08T15:18:17.933939",
     "exception": false,
     "start_time": "2023-08-08T15:18:17.619773",
     "status": "completed"
    },
    "tags": []
   },
   "outputs": [],
   "source": [
    "x_train=x_train/255.0\n",
    "\n",
    "x_test=x_test/255.0"
   ]
  },
  {
   "cell_type": "code",
   "execution_count": 6,
   "id": "ff3daff5",
   "metadata": {
    "execution": {
     "iopub.execute_input": "2023-08-08T15:18:17.945187Z",
     "iopub.status.busy": "2023-08-08T15:18:17.944802Z",
     "iopub.status.idle": "2023-08-08T15:18:18.244476Z",
     "shell.execute_reply": "2023-08-08T15:18:18.242835Z"
    },
    "papermill": {
     "duration": 0.308478,
     "end_time": "2023-08-08T15:18:18.247265",
     "exception": false,
     "start_time": "2023-08-08T15:18:17.938787",
     "status": "completed"
    },
    "tags": []
   },
   "outputs": [],
   "source": [
    "X_train,X_val,Y_train,Y_val=train_test_split(x_train,y_train,test_size=.1,random_state=1,shuffle=True)"
   ]
  },
  {
   "cell_type": "code",
   "execution_count": 7,
   "id": "81b6525a",
   "metadata": {
    "execution": {
     "iopub.execute_input": "2023-08-08T15:18:18.260025Z",
     "iopub.status.busy": "2023-08-08T15:18:18.258272Z",
     "iopub.status.idle": "2023-08-08T15:18:18.265956Z",
     "shell.execute_reply": "2023-08-08T15:18:18.264111Z"
    },
    "papermill": {
     "duration": 0.016961,
     "end_time": "2023-08-08T15:18:18.269192",
     "exception": false,
     "start_time": "2023-08-08T15:18:18.252231",
     "status": "completed"
    },
    "tags": []
   },
   "outputs": [
    {
     "name": "stdout",
     "output_type": "stream",
     "text": [
      "(54000, 28, 28)\n",
      "(6000, 28, 28)\n"
     ]
    }
   ],
   "source": [
    "print(X_train.shape)\n",
    "print(X_val.shape)"
   ]
  },
  {
   "cell_type": "code",
   "execution_count": 8,
   "id": "0cc5f209",
   "metadata": {
    "execution": {
     "iopub.execute_input": "2023-08-08T15:18:18.281076Z",
     "iopub.status.busy": "2023-08-08T15:18:18.280552Z",
     "iopub.status.idle": "2023-08-08T15:18:18.787243Z",
     "shell.execute_reply": "2023-08-08T15:18:18.785249Z"
    },
    "papermill": {
     "duration": 0.516085,
     "end_time": "2023-08-08T15:18:18.790240",
     "exception": false,
     "start_time": "2023-08-08T15:18:18.274155",
     "status": "completed"
    },
    "tags": []
   },
   "outputs": [],
   "source": [
    "model=tf.keras.Sequential([\n",
    "    tf.keras.layers.Flatten(input_shape=(28,28,1)),\n",
    "    tf.keras.layers.Dense(50,activation='relu'),\n",
    "    tf.keras.layers.Dense(50,activation='relu'),\n",
    "    tf.keras.layers.Dense(10,activation='softmax')\n",
    "])"
   ]
  },
  {
   "cell_type": "code",
   "execution_count": 9,
   "id": "dc1a2c00",
   "metadata": {
    "execution": {
     "iopub.execute_input": "2023-08-08T15:18:18.802007Z",
     "iopub.status.busy": "2023-08-08T15:18:18.801606Z",
     "iopub.status.idle": "2023-08-08T15:18:18.824838Z",
     "shell.execute_reply": "2023-08-08T15:18:18.822996Z"
    },
    "papermill": {
     "duration": 0.032546,
     "end_time": "2023-08-08T15:18:18.828057",
     "exception": false,
     "start_time": "2023-08-08T15:18:18.795511",
     "status": "completed"
    },
    "tags": []
   },
   "outputs": [],
   "source": [
    "model.compile(optimizer='adam',loss='sparse_categorical_crossentropy',metrics=['accuracy'])"
   ]
  },
  {
   "cell_type": "code",
   "execution_count": 10,
   "id": "272fcdca",
   "metadata": {
    "execution": {
     "iopub.execute_input": "2023-08-08T15:18:18.839952Z",
     "iopub.status.busy": "2023-08-08T15:18:18.839448Z",
     "iopub.status.idle": "2023-08-08T15:18:23.451422Z",
     "shell.execute_reply": "2023-08-08T15:18:23.449163Z"
    },
    "papermill": {
     "duration": 4.621555,
     "end_time": "2023-08-08T15:18:23.454624",
     "exception": false,
     "start_time": "2023-08-08T15:18:18.833069",
     "status": "completed"
    },
    "tags": []
   },
   "outputs": [
    {
     "name": "stdout",
     "output_type": "stream",
     "text": [
      "Epoch 1/5\n",
      "108/108 - 2s - loss: 0.7947 - accuracy: 0.7782 - val_loss: 0.3302 - val_accuracy: 0.9052 - 2s/epoch - 15ms/step\n",
      "Epoch 2/5\n",
      "108/108 - 1s - loss: 0.2776 - accuracy: 0.9211 - val_loss: 0.2501 - val_accuracy: 0.9290 - 573ms/epoch - 5ms/step\n",
      "Epoch 3/5\n",
      "108/108 - 1s - loss: 0.2191 - accuracy: 0.9373 - val_loss: 0.2184 - val_accuracy: 0.9387 - 677ms/epoch - 6ms/step\n",
      "Epoch 4/5\n",
      "108/108 - 1s - loss: 0.1821 - accuracy: 0.9481 - val_loss: 0.1921 - val_accuracy: 0.9440 - 624ms/epoch - 6ms/step\n",
      "Epoch 5/5\n",
      "108/108 - 1s - loss: 0.1577 - accuracy: 0.9547 - val_loss: 0.1734 - val_accuracy: 0.9530 - 602ms/epoch - 6ms/step\n"
     ]
    }
   ],
   "source": [
    "history=model.fit(X_train,Y_train,epochs=5,validation_data=(X_val,Y_val),batch_size=500,verbose=2)"
   ]
  },
  {
   "cell_type": "code",
   "execution_count": 11,
   "id": "b5dd7f5b",
   "metadata": {
    "execution": {
     "iopub.execute_input": "2023-08-08T15:18:23.469879Z",
     "iopub.status.busy": "2023-08-08T15:18:23.469457Z",
     "iopub.status.idle": "2023-08-08T15:18:23.824061Z",
     "shell.execute_reply": "2023-08-08T15:18:23.822560Z"
    },
    "papermill": {
     "duration": 0.364063,
     "end_time": "2023-08-08T15:18:23.826228",
     "exception": false,
     "start_time": "2023-08-08T15:18:23.462165",
     "status": "completed"
    },
    "tags": []
   },
   "outputs": [
    {
     "data": {
      "text/plain": [
       "<matplotlib.legend.Legend at 0x7804ac783910>"
      ]
     },
     "execution_count": 11,
     "metadata": {},
     "output_type": "execute_result"
    },
    {
     "data": {
      "image/png": "[encoded data removed]",
      "text/plain": [
       "<Figure size 640x480 with 1 Axes>"
      ]
     },
     "metadata": {},
     "output_type": "display_data"
    }
   ],
   "source": [
    "plt.plot(history.history['accuracy'])\n",
    "plt.plot(history.history['val_accuracy'])\n",
    "\n",
    "plt.title('model accuracy')\n",
    "plt.ylabel('accuracy')\n",
    "plt.xlabel('epoch')\n",
    "\n",
    "plt.legend(['training data', 'validation data'], loc = 'lower right')"
   ]
  },
  {
   "cell_type": "code",
   "execution_count": 12,
   "id": "588adcd0",
   "metadata": {
    "execution": {
     "iopub.execute_input": "2023-08-08T15:18:23.839533Z",
     "iopub.status.busy": "2023-08-08T15:18:23.839170Z",
     "iopub.status.idle": "2023-08-08T15:18:24.127796Z",
     "shell.execute_reply": "2023-08-08T15:18:24.125659Z"
    },
    "papermill": {
     "duration": 0.29848,
     "end_time": "2023-08-08T15:18:24.130553",
     "exception": false,
     "start_time": "2023-08-08T15:18:23.832073",
     "status": "completed"
    },
    "tags": []
   },
   "outputs": [
    {
     "data": {
      "text/plain": [
       "<matplotlib.legend.Legend at 0x78056012b6a0>"
      ]
     },
     "execution_count": 12,
     "metadata": {},
     "output_type": "execute_result"
    },
    {
     "data": {
      "image/png": "[encoded data removed]",
      "text/plain": [
       "<Figure size 640x480 with 1 Axes>"
      ]
     },
     "metadata": {},
     "output_type": "display_data"
    }
   ],
   "source": [
    "plt.plot(history.history['loss'])\n",
    "plt.plot(history.history['val_loss'])\n",
    "\n",
    "plt.title('model loss')\n",
    "plt.ylabel('loss')\n",
    "plt.xlabel('epoch')\n",
    "\n",
    "plt.legend(['training data', 'validation data'], loc = 'upper right')"
   ]
  },
  {
   "cell_type": "code",
   "execution_count": 13,
   "id": "bbb236d9",
   "metadata": {
    "execution": {
     "iopub.execute_input": "2023-08-08T15:18:24.146384Z",
     "iopub.status.busy": "2023-08-08T15:18:24.145950Z",
     "iopub.status.idle": "2023-08-08T15:18:25.119115Z",
     "shell.execute_reply": "2023-08-08T15:18:25.117644Z"
    },
    "papermill": {
     "duration": 0.983943,
     "end_time": "2023-08-08T15:18:25.121851",
     "exception": false,
     "start_time": "2023-08-08T15:18:24.137908",
     "status": "completed"
    },
    "tags": []
   },
   "outputs": [
    {
     "name": "stdout",
     "output_type": "stream",
     "text": [
      "313/313 [==============================] - 1s 2ms/step - loss: 0.1585 - accuracy: 0.9534\n"
     ]
    }
   ],
   "source": [
    "test_loss, test_accuracy = model.evaluate(x_test,y_test)"
   ]
  },
  {
   "cell_type": "code",
   "execution_count": 14,
   "id": "9b959262",
   "metadata": {
    "execution": {
     "iopub.execute_input": "2023-08-08T15:18:25.138568Z",
     "iopub.status.busy": "2023-08-08T15:18:25.138143Z",
     "iopub.status.idle": "2023-08-08T15:18:25.144912Z",
     "shell.execute_reply": "2023-08-08T15:18:25.143453Z"
    },
    "papermill": {
     "duration": 0.017925,
     "end_time": "2023-08-08T15:18:25.147295",
     "exception": false,
     "start_time": "2023-08-08T15:18:25.129370",
     "status": "completed"
    },
    "tags": []
   },
   "outputs": [
    {
     "name": "stdout",
     "output_type": "stream",
     "text": [
      "Test loss: 0.16. Test accuracy: 95.34%\n"
     ]
    }
   ],
   "source": [
    "print('Test loss: {0:.2f}. Test accuracy: {1:.2f}%'.format(test_loss, test_accuracy*100.))"
   ]
  }
 ],
 "metadata": {
  "kernelspec": {
   "display_name": "Python 3",
   "language": "python",
   "name": "python3"
  },
  "language_info": {
   "codemirror_mode": {
    "name": "ipython",
    "version": 3
   },
   "file_extension": ".py",
   "mimetype": "text/x-python",
   "name": "python",
   "nbconvert_exporter": "python",
   "pygments_lexer": "ipython3",
   "version": "3.10.12"
  },
  "papermill": {
   "default_parameters": {},
   "duration": 35.57025,
   "end_time": "2023-08-08T15:18:28.395136",
   "environment_variables": {},
   "exception": null,
   "input_path": "__notebook__.ipynb",
   "output_path": "__notebook__.ipynb",
   "parameters": {},
   "start_time": "2023-08-08T15:17:52.824886",
   "version": "2.4.0"
  }
 },
 "nbformat": 4,
 "nbformat_minor": 5
}

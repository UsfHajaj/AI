{
 "cells": [
  {
   "cell_type": "code",
   "execution_count": 1,
   "id": "1659fda4",
   "metadata": {
    "_cell_guid": "b1076dfc-b9ad-4769-8c92-a6c4dae69d19",
    "_uuid": "8f2839f25d086af736a60e9eeb907d3b93b6e0e5",
    "execution": {
     "iopub.execute_input": "2023-08-14T13:01:58.049845Z",
     "iopub.status.busy": "2023-08-14T13:01:58.049342Z",
     "iopub.status.idle": "2023-08-14T13:01:58.072303Z",
     "shell.execute_reply": "2023-08-14T13:01:58.071339Z"
    },
    "papermill": {
     "duration": 0.041044,
     "end_time": "2023-08-14T13:01:58.074696",
     "exception": false,
     "start_time": "2023-08-14T13:01:58.033652",
     "status": "completed"
    },
    "tags": []
   },
   "outputs": [
    {
     "name": "stdout",
     "output_type": "stream",
     "text": [
      "/kaggle/input/diamonds/diamonds.csv\n"
     ]
    }
   ],
   "source": [
    "# This Python 3 environment comes with many helpful analytics libraries installed\n",
    "# It is defined by the kaggle/python Docker image: https://github.com/kaggle/docker-python\n",
    "# For example, here's several helpful packages to load\n",
    "\n",
    "import numpy as np # linear algebra\n",
    "import pandas as pd # data processing, CSV file I/O (e.g. pd.read_csv)\n",
    "\n",
    "# Input data files are available in the read-only \"../input/\" directory\n",
    "# For example, running this (by clicking run or pressing Shift+Enter) will list all files under the input directory\n",
    "\n",
    "import os\n",
    "for dirname, _, filenames in os.walk('/kaggle/input'):\n",
    "    for filename in filenames:\n",
    "        print(os.path.join(dirname, filename))\n",
    "\n",
    "# You can write up to 20GB to the current directory (/kaggle/working/) that gets preserved as output when you create a version using \"Save & Run All\" \n",
    "# You can also write temporary files to /kaggle/temp/, but they won't be saved outside of the current session"
   ]
  },
  {
   "cell_type": "code",
   "execution_count": 2,
   "id": "b9e5dc21",
   "metadata": {
    "execution": {
     "iopub.execute_input": "2023-08-14T13:01:58.103182Z",
     "iopub.status.busy": "2023-08-14T13:01:58.102684Z",
     "iopub.status.idle": "2023-08-14T13:02:09.705225Z",
     "shell.execute_reply": "2023-08-14T13:02:09.703888Z"
    },
    "papermill": {
     "duration": 11.620468,
     "end_time": "2023-08-14T13:02:09.708363",
     "exception": false,
     "start_time": "2023-08-14T13:01:58.087895",
     "status": "completed"
    },
    "tags": []
   },
   "outputs": [
    {
     "name": "stderr",
     "output_type": "stream",
     "text": [
      "/opt/conda/lib/python3.10/site-packages/scipy/__init__.py:146: UserWarning: A NumPy version >=1.16.5 and <1.23.0 is required for this version of SciPy (detected version 1.23.5\n",
      "  warnings.warn(f\"A NumPy version >={np_minversion} and <{np_maxversion}\"\n",
      "/opt/conda/lib/python3.10/site-packages/tensorflow_io/python/ops/__init__.py:98: UserWarning: unable to load libtensorflow_io_plugins.so: unable to open file: libtensorflow_io_plugins.so, from paths: ['/opt/conda/lib/python3.10/site-packages/tensorflow_io/python/ops/libtensorflow_io_plugins.so']\n",
      "caused by: ['/opt/conda/lib/python3.10/site-packages/tensorflow_io/python/ops/libtensorflow_io_plugins.so: undefined symbol: _ZN3tsl6StatusC1EN10tensorflow5error4CodeESt17basic_string_viewIcSt11char_traitsIcEENS_14SourceLocationE']\n",
      "  warnings.warn(f\"unable to load libtensorflow_io_plugins.so: {e}\")\n",
      "/opt/conda/lib/python3.10/site-packages/tensorflow_io/python/ops/__init__.py:104: UserWarning: file system plugins are not loaded: unable to open file: libtensorflow_io.so, from paths: ['/opt/conda/lib/python3.10/site-packages/tensorflow_io/python/ops/libtensorflow_io.so']\n",
      "caused by: ['/opt/conda/lib/python3.10/site-packages/tensorflow_io/python/ops/libtensorflow_io.so: undefined symbol: _ZTVN10tensorflow13GcsFileSystemE']\n",
      "  warnings.warn(f\"file system plugins are not loaded: {e}\")\n"
     ]
    }
   ],
   "source": [
    "import matplotlib.pyplot as plt\n",
    "from sklearn.model_selection import train_test_split\n",
    "import tensorflow as tf\n",
    "import keras\n",
    "from keras.layers import Dense,Flatten\n",
    "import seaborn as sna\n",
    "from sklearn.metrics import classification_report,accuracy_score\n",
    "from sklearn.preprocessing import LabelEncoder,StandardScaler"
   ]
  },
  {
   "cell_type": "code",
   "execution_count": 3,
   "id": "81638609",
   "metadata": {
    "execution": {
     "iopub.execute_input": "2023-08-14T13:02:09.738810Z",
     "iopub.status.busy": "2023-08-14T13:02:09.737918Z",
     "iopub.status.idle": "2023-08-14T13:02:09.931409Z",
     "shell.execute_reply": "2023-08-14T13:02:09.930221Z"
    },
    "papermill": {
     "duration": 0.212045,
     "end_time": "2023-08-14T13:02:09.933764",
     "exception": false,
     "start_time": "2023-08-14T13:02:09.721719",
     "status": "completed"
    },
    "tags": []
   },
   "outputs": [
    {
     "data": {
      "text/html": [
       "<div>\n",
       "<style scoped>\n",
       "    .dataframe tbody tr th:only-of-type {\n",
       "        vertical-align: middle;\n",
       "    }\n",
       "\n",
       "    .dataframe tbody tr th {\n",
       "        vertical-align: top;\n",
       "    }\n",
       "\n",
       "    .dataframe thead th {\n",
       "        text-align: right;\n",
       "    }\n",
       "</style>\n",
       "<table border=\"1\" class=\"dataframe\">\n",
       "  <thead>\n",
       "    <tr style=\"text-align: right;\">\n",
       "      <th></th>\n",
       "      <th>carat</th>\n",
       "      <th>cut</th>\n",
       "      <th>color</th>\n",
       "      <th>clarity</th>\n",
       "      <th>depth</th>\n",
       "      <th>table</th>\n",
       "      <th>price</th>\n",
       "      <th>x</th>\n",
       "      <th>y</th>\n",
       "      <th>z</th>\n",
       "    </tr>\n",
       "  </thead>\n",
       "  <tbody>\n",
       "    <tr>\n",
       "      <th>0</th>\n",
       "      <td>0.23</td>\n",
       "      <td>Ideal</td>\n",
       "      <td>E</td>\n",
       "      <td>SI2</td>\n",
       "      <td>61.5</td>\n",
       "      <td>55.0</td>\n",
       "      <td>326</td>\n",
       "      <td>3.95</td>\n",
       "      <td>3.98</td>\n",
       "      <td>2.43</td>\n",
       "    </tr>\n",
       "    <tr>\n",
       "      <th>1</th>\n",
       "      <td>0.21</td>\n",
       "      <td>Premium</td>\n",
       "      <td>E</td>\n",
       "      <td>SI1</td>\n",
       "      <td>59.8</td>\n",
       "      <td>61.0</td>\n",
       "      <td>326</td>\n",
       "      <td>3.89</td>\n",
       "      <td>3.84</td>\n",
       "      <td>2.31</td>\n",
       "    </tr>\n",
       "    <tr>\n",
       "      <th>2</th>\n",
       "      <td>0.23</td>\n",
       "      <td>Good</td>\n",
       "      <td>E</td>\n",
       "      <td>VS1</td>\n",
       "      <td>56.9</td>\n",
       "      <td>65.0</td>\n",
       "      <td>327</td>\n",
       "      <td>4.05</td>\n",
       "      <td>4.07</td>\n",
       "      <td>2.31</td>\n",
       "    </tr>\n",
       "    <tr>\n",
       "      <th>3</th>\n",
       "      <td>0.29</td>\n",
       "      <td>Premium</td>\n",
       "      <td>I</td>\n",
       "      <td>VS2</td>\n",
       "      <td>62.4</td>\n",
       "      <td>58.0</td>\n",
       "      <td>334</td>\n",
       "      <td>4.20</td>\n",
       "      <td>4.23</td>\n",
       "      <td>2.63</td>\n",
       "    </tr>\n",
       "    <tr>\n",
       "      <th>4</th>\n",
       "      <td>0.31</td>\n",
       "      <td>Good</td>\n",
       "      <td>J</td>\n",
       "      <td>SI2</td>\n",
       "      <td>63.3</td>\n",
       "      <td>58.0</td>\n",
       "      <td>335</td>\n",
       "      <td>4.34</td>\n",
       "      <td>4.35</td>\n",
       "      <td>2.75</td>\n",
       "    </tr>\n",
       "    <tr>\n",
       "      <th>...</th>\n",
       "      <td>...</td>\n",
       "      <td>...</td>\n",
       "      <td>...</td>\n",
       "      <td>...</td>\n",
       "      <td>...</td>\n",
       "      <td>...</td>\n",
       "      <td>...</td>\n",
       "      <td>...</td>\n",
       "      <td>...</td>\n",
       "      <td>...</td>\n",
       "    </tr>\n",
       "    <tr>\n",
       "      <th>53935</th>\n",
       "      <td>0.72</td>\n",
       "      <td>Ideal</td>\n",
       "      <td>D</td>\n",
       "      <td>SI1</td>\n",
       "      <td>60.8</td>\n",
       "      <td>57.0</td>\n",
       "      <td>2757</td>\n",
       "      <td>5.75</td>\n",
       "      <td>5.76</td>\n",
       "      <td>3.50</td>\n",
       "    </tr>\n",
       "    <tr>\n",
       "      <th>53936</th>\n",
       "      <td>0.72</td>\n",
       "      <td>Good</td>\n",
       "      <td>D</td>\n",
       "      <td>SI1</td>\n",
       "      <td>63.1</td>\n",
       "      <td>55.0</td>\n",
       "      <td>2757</td>\n",
       "      <td>5.69</td>\n",
       "      <td>5.75</td>\n",
       "      <td>3.61</td>\n",
       "    </tr>\n",
       "    <tr>\n",
       "      <th>53937</th>\n",
       "      <td>0.70</td>\n",
       "      <td>Very Good</td>\n",
       "      <td>D</td>\n",
       "      <td>SI1</td>\n",
       "      <td>62.8</td>\n",
       "      <td>60.0</td>\n",
       "      <td>2757</td>\n",
       "      <td>5.66</td>\n",
       "      <td>5.68</td>\n",
       "      <td>3.56</td>\n",
       "    </tr>\n",
       "    <tr>\n",
       "      <th>53938</th>\n",
       "      <td>0.86</td>\n",
       "      <td>Premium</td>\n",
       "      <td>H</td>\n",
       "      <td>SI2</td>\n",
       "      <td>61.0</td>\n",
       "      <td>58.0</td>\n",
       "      <td>2757</td>\n",
       "      <td>6.15</td>\n",
       "      <td>6.12</td>\n",
       "      <td>3.74</td>\n",
       "    </tr>\n",
       "    <tr>\n",
       "      <th>53939</th>\n",
       "      <td>0.75</td>\n",
       "      <td>Ideal</td>\n",
       "      <td>D</td>\n",
       "      <td>SI2</td>\n",
       "      <td>62.2</td>\n",
       "      <td>55.0</td>\n",
       "      <td>2757</td>\n",
       "      <td>5.83</td>\n",
       "      <td>5.87</td>\n",
       "      <td>3.64</td>\n",
       "    </tr>\n",
       "  </tbody>\n",
       "</table>\n",
       "<p>53940 rows × 10 columns</p>\n",
       "</div>"
      ],
      "text/plain": [
       "       carat        cut color clarity  depth  table  price     x     y     z\n",
       "0       0.23      Ideal     E     SI2   61.5   55.0    326  3.95  3.98  2.43\n",
       "1       0.21    Premium     E     SI1   59.8   61.0    326  3.89  3.84  2.31\n",
       "2       0.23       Good     E     VS1   56.9   65.0    327  4.05  4.07  2.31\n",
       "3       0.29    Premium     I     VS2   62.4   58.0    334  4.20  4.23  2.63\n",
       "4       0.31       Good     J     SI2   63.3   58.0    335  4.34  4.35  2.75\n",
       "...      ...        ...   ...     ...    ...    ...    ...   ...   ...   ...\n",
       "53935   0.72      Ideal     D     SI1   60.8   57.0   2757  5.75  5.76  3.50\n",
       "53936   0.72       Good     D     SI1   63.1   55.0   2757  5.69  5.75  3.61\n",
       "53937   0.70  Very Good     D     SI1   62.8   60.0   2757  5.66  5.68  3.56\n",
       "53938   0.86    Premium     H     SI2   61.0   58.0   2757  6.15  6.12  3.74\n",
       "53939   0.75      Ideal     D     SI2   62.2   55.0   2757  5.83  5.87  3.64\n",
       "\n",
       "[53940 rows x 10 columns]"
      ]
     },
     "execution_count": 3,
     "metadata": {},
     "output_type": "execute_result"
    }
   ],
   "source": [
    "df=pd.read_csv('/kaggle/input/diamonds/diamonds.csv')\n",
    "df"
   ]
  },
  {
   "cell_type": "code",
   "execution_count": 4,
   "id": "38b91a73",
   "metadata": {
    "execution": {
     "iopub.execute_input": "2023-08-14T13:02:09.963640Z",
     "iopub.status.busy": "2023-08-14T13:02:09.963156Z",
     "iopub.status.idle": "2023-08-14T13:02:09.983326Z",
     "shell.execute_reply": "2023-08-14T13:02:09.982139Z"
    },
    "papermill": {
     "duration": 0.037854,
     "end_time": "2023-08-14T13:02:09.985733",
     "exception": false,
     "start_time": "2023-08-14T13:02:09.947879",
     "status": "completed"
    },
    "tags": []
   },
   "outputs": [
    {
     "data": {
      "text/html": [
       "<div>\n",
       "<style scoped>\n",
       "    .dataframe tbody tr th:only-of-type {\n",
       "        vertical-align: middle;\n",
       "    }\n",
       "\n",
       "    .dataframe tbody tr th {\n",
       "        vertical-align: top;\n",
       "    }\n",
       "\n",
       "    .dataframe thead th {\n",
       "        text-align: right;\n",
       "    }\n",
       "</style>\n",
       "<table border=\"1\" class=\"dataframe\">\n",
       "  <thead>\n",
       "    <tr style=\"text-align: right;\">\n",
       "      <th></th>\n",
       "      <th>carat</th>\n",
       "      <th>cut</th>\n",
       "      <th>color</th>\n",
       "      <th>clarity</th>\n",
       "      <th>depth</th>\n",
       "      <th>table</th>\n",
       "      <th>price</th>\n",
       "      <th>x</th>\n",
       "      <th>y</th>\n",
       "      <th>z</th>\n",
       "    </tr>\n",
       "  </thead>\n",
       "  <tbody>\n",
       "    <tr>\n",
       "      <th>0</th>\n",
       "      <td>0.23</td>\n",
       "      <td>Ideal</td>\n",
       "      <td>E</td>\n",
       "      <td>SI2</td>\n",
       "      <td>61.5</td>\n",
       "      <td>55.0</td>\n",
       "      <td>326</td>\n",
       "      <td>3.95</td>\n",
       "      <td>3.98</td>\n",
       "      <td>2.43</td>\n",
       "    </tr>\n",
       "    <tr>\n",
       "      <th>1</th>\n",
       "      <td>0.21</td>\n",
       "      <td>Premium</td>\n",
       "      <td>E</td>\n",
       "      <td>SI1</td>\n",
       "      <td>59.8</td>\n",
       "      <td>61.0</td>\n",
       "      <td>326</td>\n",
       "      <td>3.89</td>\n",
       "      <td>3.84</td>\n",
       "      <td>2.31</td>\n",
       "    </tr>\n",
       "    <tr>\n",
       "      <th>2</th>\n",
       "      <td>0.23</td>\n",
       "      <td>Good</td>\n",
       "      <td>E</td>\n",
       "      <td>VS1</td>\n",
       "      <td>56.9</td>\n",
       "      <td>65.0</td>\n",
       "      <td>327</td>\n",
       "      <td>4.05</td>\n",
       "      <td>4.07</td>\n",
       "      <td>2.31</td>\n",
       "    </tr>\n",
       "    <tr>\n",
       "      <th>3</th>\n",
       "      <td>0.29</td>\n",
       "      <td>Premium</td>\n",
       "      <td>I</td>\n",
       "      <td>VS2</td>\n",
       "      <td>62.4</td>\n",
       "      <td>58.0</td>\n",
       "      <td>334</td>\n",
       "      <td>4.20</td>\n",
       "      <td>4.23</td>\n",
       "      <td>2.63</td>\n",
       "    </tr>\n",
       "    <tr>\n",
       "      <th>4</th>\n",
       "      <td>0.31</td>\n",
       "      <td>Good</td>\n",
       "      <td>J</td>\n",
       "      <td>SI2</td>\n",
       "      <td>63.3</td>\n",
       "      <td>58.0</td>\n",
       "      <td>335</td>\n",
       "      <td>4.34</td>\n",
       "      <td>4.35</td>\n",
       "      <td>2.75</td>\n",
       "    </tr>\n",
       "  </tbody>\n",
       "</table>\n",
       "</div>"
      ],
      "text/plain": [
       "   carat      cut color clarity  depth  table  price     x     y     z\n",
       "0   0.23    Ideal     E     SI2   61.5   55.0    326  3.95  3.98  2.43\n",
       "1   0.21  Premium     E     SI1   59.8   61.0    326  3.89  3.84  2.31\n",
       "2   0.23     Good     E     VS1   56.9   65.0    327  4.05  4.07  2.31\n",
       "3   0.29  Premium     I     VS2   62.4   58.0    334  4.20  4.23  2.63\n",
       "4   0.31     Good     J     SI2   63.3   58.0    335  4.34  4.35  2.75"
      ]
     },
     "execution_count": 4,
     "metadata": {},
     "output_type": "execute_result"
    }
   ],
   "source": [
    "df.head()"
   ]
  },
  {
   "cell_type": "code",
   "execution_count": 5,
   "id": "089976d0",
   "metadata": {
    "execution": {
     "iopub.execute_input": "2023-08-14T13:02:10.015882Z",
     "iopub.status.busy": "2023-08-14T13:02:10.015404Z",
     "iopub.status.idle": "2023-08-14T13:02:10.035086Z",
     "shell.execute_reply": "2023-08-14T13:02:10.033938Z"
    },
    "papermill": {
     "duration": 0.037617,
     "end_time": "2023-08-14T13:02:10.037367",
     "exception": false,
     "start_time": "2023-08-14T13:02:09.999750",
     "status": "completed"
    },
    "tags": []
   },
   "outputs": [
    {
     "data": {
      "text/html": [
       "<div>\n",
       "<style scoped>\n",
       "    .dataframe tbody tr th:only-of-type {\n",
       "        vertical-align: middle;\n",
       "    }\n",
       "\n",
       "    .dataframe tbody tr th {\n",
       "        vertical-align: top;\n",
       "    }\n",
       "\n",
       "    .dataframe thead th {\n",
       "        text-align: right;\n",
       "    }\n",
       "</style>\n",
       "<table border=\"1\" class=\"dataframe\">\n",
       "  <thead>\n",
       "    <tr style=\"text-align: right;\">\n",
       "      <th></th>\n",
       "      <th>carat</th>\n",
       "      <th>cut</th>\n",
       "      <th>color</th>\n",
       "      <th>clarity</th>\n",
       "      <th>depth</th>\n",
       "      <th>table</th>\n",
       "      <th>price</th>\n",
       "      <th>x</th>\n",
       "      <th>y</th>\n",
       "      <th>z</th>\n",
       "    </tr>\n",
       "  </thead>\n",
       "  <tbody>\n",
       "    <tr>\n",
       "      <th>53935</th>\n",
       "      <td>0.72</td>\n",
       "      <td>Ideal</td>\n",
       "      <td>D</td>\n",
       "      <td>SI1</td>\n",
       "      <td>60.8</td>\n",
       "      <td>57.0</td>\n",
       "      <td>2757</td>\n",
       "      <td>5.75</td>\n",
       "      <td>5.76</td>\n",
       "      <td>3.50</td>\n",
       "    </tr>\n",
       "    <tr>\n",
       "      <th>53936</th>\n",
       "      <td>0.72</td>\n",
       "      <td>Good</td>\n",
       "      <td>D</td>\n",
       "      <td>SI1</td>\n",
       "      <td>63.1</td>\n",
       "      <td>55.0</td>\n",
       "      <td>2757</td>\n",
       "      <td>5.69</td>\n",
       "      <td>5.75</td>\n",
       "      <td>3.61</td>\n",
       "    </tr>\n",
       "    <tr>\n",
       "      <th>53937</th>\n",
       "      <td>0.70</td>\n",
       "      <td>Very Good</td>\n",
       "      <td>D</td>\n",
       "      <td>SI1</td>\n",
       "      <td>62.8</td>\n",
       "      <td>60.0</td>\n",
       "      <td>2757</td>\n",
       "      <td>5.66</td>\n",
       "      <td>5.68</td>\n",
       "      <td>3.56</td>\n",
       "    </tr>\n",
       "    <tr>\n",
       "      <th>53938</th>\n",
       "      <td>0.86</td>\n",
       "      <td>Premium</td>\n",
       "      <td>H</td>\n",
       "      <td>SI2</td>\n",
       "      <td>61.0</td>\n",
       "      <td>58.0</td>\n",
       "      <td>2757</td>\n",
       "      <td>6.15</td>\n",
       "      <td>6.12</td>\n",
       "      <td>3.74</td>\n",
       "    </tr>\n",
       "    <tr>\n",
       "      <th>53939</th>\n",
       "      <td>0.75</td>\n",
       "      <td>Ideal</td>\n",
       "      <td>D</td>\n",
       "      <td>SI2</td>\n",
       "      <td>62.2</td>\n",
       "      <td>55.0</td>\n",
       "      <td>2757</td>\n",
       "      <td>5.83</td>\n",
       "      <td>5.87</td>\n",
       "      <td>3.64</td>\n",
       "    </tr>\n",
       "  </tbody>\n",
       "</table>\n",
       "</div>"
      ],
      "text/plain": [
       "       carat        cut color clarity  depth  table  price     x     y     z\n",
       "53935   0.72      Ideal     D     SI1   60.8   57.0   2757  5.75  5.76  3.50\n",
       "53936   0.72       Good     D     SI1   63.1   55.0   2757  5.69  5.75  3.61\n",
       "53937   0.70  Very Good     D     SI1   62.8   60.0   2757  5.66  5.68  3.56\n",
       "53938   0.86    Premium     H     SI2   61.0   58.0   2757  6.15  6.12  3.74\n",
       "53939   0.75      Ideal     D     SI2   62.2   55.0   2757  5.83  5.87  3.64"
      ]
     },
     "execution_count": 5,
     "metadata": {},
     "output_type": "execute_result"
    }
   ],
   "source": [
    "df.tail()"
   ]
  },
  {
   "cell_type": "code",
   "execution_count": 6,
   "id": "583267a6",
   "metadata": {
    "execution": {
     "iopub.execute_input": "2023-08-14T13:02:10.067957Z",
     "iopub.status.busy": "2023-08-14T13:02:10.067493Z",
     "iopub.status.idle": "2023-08-14T13:02:10.075045Z",
     "shell.execute_reply": "2023-08-14T13:02:10.073923Z"
    },
    "papermill": {
     "duration": 0.025837,
     "end_time": "2023-08-14T13:02:10.077398",
     "exception": false,
     "start_time": "2023-08-14T13:02:10.051561",
     "status": "completed"
    },
    "tags": []
   },
   "outputs": [
    {
     "data": {
      "text/plain": [
       "(53940, 10)"
      ]
     },
     "execution_count": 6,
     "metadata": {},
     "output_type": "execute_result"
    }
   ],
   "source": [
    "df.shape"
   ]
  },
  {
   "cell_type": "code",
   "execution_count": 7,
   "id": "dc64673d",
   "metadata": {
    "execution": {
     "iopub.execute_input": "2023-08-14T13:02:10.108103Z",
     "iopub.status.busy": "2023-08-14T13:02:10.107643Z",
     "iopub.status.idle": "2023-08-14T13:02:10.162868Z",
     "shell.execute_reply": "2023-08-14T13:02:10.161746Z"
    },
    "papermill": {
     "duration": 0.073805,
     "end_time": "2023-08-14T13:02:10.165385",
     "exception": false,
     "start_time": "2023-08-14T13:02:10.091580",
     "status": "completed"
    },
    "tags": []
   },
   "outputs": [
    {
     "data": {
      "text/html": [
       "<div>\n",
       "<style scoped>\n",
       "    .dataframe tbody tr th:only-of-type {\n",
       "        vertical-align: middle;\n",
       "    }\n",
       "\n",
       "    .dataframe tbody tr th {\n",
       "        vertical-align: top;\n",
       "    }\n",
       "\n",
       "    .dataframe thead th {\n",
       "        text-align: right;\n",
       "    }\n",
       "</style>\n",
       "<table border=\"1\" class=\"dataframe\">\n",
       "  <thead>\n",
       "    <tr style=\"text-align: right;\">\n",
       "      <th></th>\n",
       "      <th>carat</th>\n",
       "      <th>depth</th>\n",
       "      <th>table</th>\n",
       "      <th>price</th>\n",
       "      <th>x</th>\n",
       "      <th>y</th>\n",
       "      <th>z</th>\n",
       "    </tr>\n",
       "  </thead>\n",
       "  <tbody>\n",
       "    <tr>\n",
       "      <th>count</th>\n",
       "      <td>53940.000000</td>\n",
       "      <td>53940.000000</td>\n",
       "      <td>53940.000000</td>\n",
       "      <td>53940.000000</td>\n",
       "      <td>53940.000000</td>\n",
       "      <td>53940.000000</td>\n",
       "      <td>53940.000000</td>\n",
       "    </tr>\n",
       "    <tr>\n",
       "      <th>mean</th>\n",
       "      <td>0.797940</td>\n",
       "      <td>61.749405</td>\n",
       "      <td>57.457184</td>\n",
       "      <td>3932.799722</td>\n",
       "      <td>5.731157</td>\n",
       "      <td>5.734526</td>\n",
       "      <td>3.538734</td>\n",
       "    </tr>\n",
       "    <tr>\n",
       "      <th>std</th>\n",
       "      <td>0.474011</td>\n",
       "      <td>1.432621</td>\n",
       "      <td>2.234491</td>\n",
       "      <td>3989.439738</td>\n",
       "      <td>1.121761</td>\n",
       "      <td>1.142135</td>\n",
       "      <td>0.705699</td>\n",
       "    </tr>\n",
       "    <tr>\n",
       "      <th>min</th>\n",
       "      <td>0.200000</td>\n",
       "      <td>43.000000</td>\n",
       "      <td>43.000000</td>\n",
       "      <td>326.000000</td>\n",
       "      <td>0.000000</td>\n",
       "      <td>0.000000</td>\n",
       "      <td>0.000000</td>\n",
       "    </tr>\n",
       "    <tr>\n",
       "      <th>25%</th>\n",
       "      <td>0.400000</td>\n",
       "      <td>61.000000</td>\n",
       "      <td>56.000000</td>\n",
       "      <td>950.000000</td>\n",
       "      <td>4.710000</td>\n",
       "      <td>4.720000</td>\n",
       "      <td>2.910000</td>\n",
       "    </tr>\n",
       "    <tr>\n",
       "      <th>50%</th>\n",
       "      <td>0.700000</td>\n",
       "      <td>61.800000</td>\n",
       "      <td>57.000000</td>\n",
       "      <td>2401.000000</td>\n",
       "      <td>5.700000</td>\n",
       "      <td>5.710000</td>\n",
       "      <td>3.530000</td>\n",
       "    </tr>\n",
       "    <tr>\n",
       "      <th>75%</th>\n",
       "      <td>1.040000</td>\n",
       "      <td>62.500000</td>\n",
       "      <td>59.000000</td>\n",
       "      <td>5324.250000</td>\n",
       "      <td>6.540000</td>\n",
       "      <td>6.540000</td>\n",
       "      <td>4.040000</td>\n",
       "    </tr>\n",
       "    <tr>\n",
       "      <th>max</th>\n",
       "      <td>5.010000</td>\n",
       "      <td>79.000000</td>\n",
       "      <td>95.000000</td>\n",
       "      <td>18823.000000</td>\n",
       "      <td>10.740000</td>\n",
       "      <td>58.900000</td>\n",
       "      <td>31.800000</td>\n",
       "    </tr>\n",
       "  </tbody>\n",
       "</table>\n",
       "</div>"
      ],
      "text/plain": [
       "              carat         depth         table         price             x  \\\n",
       "count  53940.000000  53940.000000  53940.000000  53940.000000  53940.000000   \n",
       "mean       0.797940     61.749405     57.457184   3932.799722      5.731157   \n",
       "std        0.474011      1.432621      2.234491   3989.439738      1.121761   \n",
       "min        0.200000     43.000000     43.000000    326.000000      0.000000   \n",
       "25%        0.400000     61.000000     56.000000    950.000000      4.710000   \n",
       "50%        0.700000     61.800000     57.000000   2401.000000      5.700000   \n",
       "75%        1.040000     62.500000     59.000000   5324.250000      6.540000   \n",
       "max        5.010000     79.000000     95.000000  18823.000000     10.740000   \n",
       "\n",
       "                  y             z  \n",
       "count  53940.000000  53940.000000  \n",
       "mean       5.734526      3.538734  \n",
       "std        1.142135      0.705699  \n",
       "min        0.000000      0.000000  \n",
       "25%        4.720000      2.910000  \n",
       "50%        5.710000      3.530000  \n",
       "75%        6.540000      4.040000  \n",
       "max       58.900000     31.800000  "
      ]
     },
     "execution_count": 7,
     "metadata": {},
     "output_type": "execute_result"
    }
   ],
   "source": [
    "df.describe()"
   ]
  },
  {
   "cell_type": "code",
   "execution_count": 8,
   "id": "72a2525d",
   "metadata": {
    "execution": {
     "iopub.execute_input": "2023-08-14T13:02:10.197194Z",
     "iopub.status.busy": "2023-08-14T13:02:10.196725Z",
     "iopub.status.idle": "2023-08-14T13:02:10.259573Z",
     "shell.execute_reply": "2023-08-14T13:02:10.258396Z"
    },
    "papermill": {
     "duration": 0.08193,
     "end_time": "2023-08-14T13:02:10.262060",
     "exception": false,
     "start_time": "2023-08-14T13:02:10.180130",
     "status": "completed"
    },
    "tags": []
   },
   "outputs": [
    {
     "data": {
      "text/plain": [
       "carat      0\n",
       "cut        0\n",
       "color      0\n",
       "clarity    0\n",
       "depth      0\n",
       "table      0\n",
       "price      0\n",
       "x          0\n",
       "y          0\n",
       "z          0\n",
       "dtype: int64"
      ]
     },
     "execution_count": 8,
     "metadata": {},
     "output_type": "execute_result"
    }
   ],
   "source": [
    "df.isnull().sum()"
   ]
  },
  {
   "cell_type": "code",
   "execution_count": 9,
   "id": "424442a2",
   "metadata": {
    "execution": {
     "iopub.execute_input": "2023-08-14T13:02:10.294031Z",
     "iopub.status.busy": "2023-08-14T13:02:10.293561Z",
     "iopub.status.idle": "2023-08-14T13:02:10.302616Z",
     "shell.execute_reply": "2023-08-14T13:02:10.301201Z"
    },
    "papermill": {
     "duration": 0.028141,
     "end_time": "2023-08-14T13:02:10.304972",
     "exception": false,
     "start_time": "2023-08-14T13:02:10.276831",
     "status": "completed"
    },
    "tags": []
   },
   "outputs": [
    {
     "data": {
      "text/plain": [
       "carat      float64\n",
       "cut         object\n",
       "color       object\n",
       "clarity     object\n",
       "depth      float64\n",
       "table      float64\n",
       "price        int64\n",
       "x          float64\n",
       "y          float64\n",
       "z          float64\n",
       "dtype: object"
      ]
     },
     "execution_count": 9,
     "metadata": {},
     "output_type": "execute_result"
    }
   ],
   "source": [
    "df.dtypes"
   ]
  },
  {
   "cell_type": "code",
   "execution_count": 10,
   "id": "2b2bdf19",
   "metadata": {
    "execution": {
     "iopub.execute_input": "2023-08-14T13:02:10.336433Z",
     "iopub.status.busy": "2023-08-14T13:02:10.336009Z",
     "iopub.status.idle": "2023-08-14T13:02:10.349157Z",
     "shell.execute_reply": "2023-08-14T13:02:10.347767Z"
    },
    "papermill": {
     "duration": 0.031726,
     "end_time": "2023-08-14T13:02:10.351532",
     "exception": false,
     "start_time": "2023-08-14T13:02:10.319806",
     "status": "completed"
    },
    "tags": []
   },
   "outputs": [],
   "source": [
    "cuts=df['cut'].unique()"
   ]
  },
  {
   "cell_type": "code",
   "execution_count": 11,
   "id": "e5b59794",
   "metadata": {
    "execution": {
     "iopub.execute_input": "2023-08-14T13:02:10.383337Z",
     "iopub.status.busy": "2023-08-14T13:02:10.382816Z",
     "iopub.status.idle": "2023-08-14T13:02:10.390796Z",
     "shell.execute_reply": "2023-08-14T13:02:10.389540Z"
    },
    "papermill": {
     "duration": 0.026461,
     "end_time": "2023-08-14T13:02:10.392951",
     "exception": false,
     "start_time": "2023-08-14T13:02:10.366490",
     "status": "completed"
    },
    "tags": []
   },
   "outputs": [
    {
     "data": {
      "text/plain": [
       "array(['Ideal', 'Premium', 'Good', 'Very Good', 'Fair'], dtype=object)"
      ]
     },
     "execution_count": 11,
     "metadata": {},
     "output_type": "execute_result"
    }
   ],
   "source": [
    "cuts"
   ]
  },
  {
   "cell_type": "code",
   "execution_count": 12,
   "id": "772ea921",
   "metadata": {
    "execution": {
     "iopub.execute_input": "2023-08-14T13:02:10.426161Z",
     "iopub.status.busy": "2023-08-14T13:02:10.425700Z",
     "iopub.status.idle": "2023-08-14T13:02:10.431149Z",
     "shell.execute_reply": "2023-08-14T13:02:10.429963Z"
    },
    "papermill": {
     "duration": 0.024829,
     "end_time": "2023-08-14T13:02:10.433604",
     "exception": false,
     "start_time": "2023-08-14T13:02:10.408775",
     "status": "completed"
    },
    "tags": []
   },
   "outputs": [],
   "source": [
    "le=LabelEncoder()"
   ]
  },
  {
   "cell_type": "code",
   "execution_count": 13,
   "id": "a89fc1ed",
   "metadata": {
    "execution": {
     "iopub.execute_input": "2023-08-14T13:02:10.466824Z",
     "iopub.status.busy": "2023-08-14T13:02:10.466336Z",
     "iopub.status.idle": "2023-08-14T13:02:10.490430Z",
     "shell.execute_reply": "2023-08-14T13:02:10.489057Z"
    },
    "papermill": {
     "duration": 0.044092,
     "end_time": "2023-08-14T13:02:10.493308",
     "exception": false,
     "start_time": "2023-08-14T13:02:10.449216",
     "status": "completed"
    },
    "tags": []
   },
   "outputs": [],
   "source": [
    "df['cut']=le.fit_transform(df['cut'])"
   ]
  },
  {
   "cell_type": "code",
   "execution_count": 14,
   "id": "7cfd7cc9",
   "metadata": {
    "execution": {
     "iopub.execute_input": "2023-08-14T13:02:10.526762Z",
     "iopub.status.busy": "2023-08-14T13:02:10.526375Z",
     "iopub.status.idle": "2023-08-14T13:02:10.535685Z",
     "shell.execute_reply": "2023-08-14T13:02:10.534471Z"
    },
    "papermill": {
     "duration": 0.029014,
     "end_time": "2023-08-14T13:02:10.538070",
     "exception": false,
     "start_time": "2023-08-14T13:02:10.509056",
     "status": "completed"
    },
    "tags": []
   },
   "outputs": [
    {
     "data": {
      "text/plain": [
       "<bound method NDFrame.head of 0        2\n",
       "1        3\n",
       "2        1\n",
       "3        3\n",
       "4        1\n",
       "        ..\n",
       "53935    2\n",
       "53936    1\n",
       "53937    4\n",
       "53938    3\n",
       "53939    2\n",
       "Name: cut, Length: 53940, dtype: int64>"
      ]
     },
     "execution_count": 14,
     "metadata": {},
     "output_type": "execute_result"
    }
   ],
   "source": [
    "df['cut'].head"
   ]
  },
  {
   "cell_type": "code",
   "execution_count": 15,
   "id": "f7f973df",
   "metadata": {
    "execution": {
     "iopub.execute_input": "2023-08-14T13:02:10.571315Z",
     "iopub.status.busy": "2023-08-14T13:02:10.570846Z",
     "iopub.status.idle": "2023-08-14T13:02:10.583048Z",
     "shell.execute_reply": "2023-08-14T13:02:10.581842Z"
    },
    "papermill": {
     "duration": 0.031566,
     "end_time": "2023-08-14T13:02:10.585316",
     "exception": false,
     "start_time": "2023-08-14T13:02:10.553750",
     "status": "completed"
    },
    "tags": []
   },
   "outputs": [
    {
     "data": {
      "text/plain": [
       "array([2, 3, 1, 4, 0])"
      ]
     },
     "execution_count": 15,
     "metadata": {},
     "output_type": "execute_result"
    }
   ],
   "source": [
    "cuts=df['cut'].unique()\n",
    "cuts"
   ]
  },
  {
   "cell_type": "code",
   "execution_count": 16,
   "id": "f9a80730",
   "metadata": {
    "execution": {
     "iopub.execute_input": "2023-08-14T13:02:10.620360Z",
     "iopub.status.busy": "2023-08-14T13:02:10.619926Z",
     "iopub.status.idle": "2023-08-14T13:02:10.639011Z",
     "shell.execute_reply": "2023-08-14T13:02:10.637839Z"
    },
    "papermill": {
     "duration": 0.039454,
     "end_time": "2023-08-14T13:02:10.641306",
     "exception": false,
     "start_time": "2023-08-14T13:02:10.601852",
     "status": "completed"
    },
    "tags": []
   },
   "outputs": [
    {
     "data": {
      "text/html": [
       "<div>\n",
       "<style scoped>\n",
       "    .dataframe tbody tr th:only-of-type {\n",
       "        vertical-align: middle;\n",
       "    }\n",
       "\n",
       "    .dataframe tbody tr th {\n",
       "        vertical-align: top;\n",
       "    }\n",
       "\n",
       "    .dataframe thead th {\n",
       "        text-align: right;\n",
       "    }\n",
       "</style>\n",
       "<table border=\"1\" class=\"dataframe\">\n",
       "  <thead>\n",
       "    <tr style=\"text-align: right;\">\n",
       "      <th></th>\n",
       "      <th>carat</th>\n",
       "      <th>cut</th>\n",
       "      <th>color</th>\n",
       "      <th>clarity</th>\n",
       "      <th>depth</th>\n",
       "      <th>table</th>\n",
       "      <th>price</th>\n",
       "      <th>x</th>\n",
       "      <th>y</th>\n",
       "      <th>z</th>\n",
       "    </tr>\n",
       "  </thead>\n",
       "  <tbody>\n",
       "    <tr>\n",
       "      <th>53935</th>\n",
       "      <td>0.72</td>\n",
       "      <td>2</td>\n",
       "      <td>D</td>\n",
       "      <td>SI1</td>\n",
       "      <td>60.8</td>\n",
       "      <td>57.0</td>\n",
       "      <td>2757</td>\n",
       "      <td>5.75</td>\n",
       "      <td>5.76</td>\n",
       "      <td>3.50</td>\n",
       "    </tr>\n",
       "    <tr>\n",
       "      <th>53936</th>\n",
       "      <td>0.72</td>\n",
       "      <td>1</td>\n",
       "      <td>D</td>\n",
       "      <td>SI1</td>\n",
       "      <td>63.1</td>\n",
       "      <td>55.0</td>\n",
       "      <td>2757</td>\n",
       "      <td>5.69</td>\n",
       "      <td>5.75</td>\n",
       "      <td>3.61</td>\n",
       "    </tr>\n",
       "    <tr>\n",
       "      <th>53937</th>\n",
       "      <td>0.70</td>\n",
       "      <td>4</td>\n",
       "      <td>D</td>\n",
       "      <td>SI1</td>\n",
       "      <td>62.8</td>\n",
       "      <td>60.0</td>\n",
       "      <td>2757</td>\n",
       "      <td>5.66</td>\n",
       "      <td>5.68</td>\n",
       "      <td>3.56</td>\n",
       "    </tr>\n",
       "    <tr>\n",
       "      <th>53938</th>\n",
       "      <td>0.86</td>\n",
       "      <td>3</td>\n",
       "      <td>H</td>\n",
       "      <td>SI2</td>\n",
       "      <td>61.0</td>\n",
       "      <td>58.0</td>\n",
       "      <td>2757</td>\n",
       "      <td>6.15</td>\n",
       "      <td>6.12</td>\n",
       "      <td>3.74</td>\n",
       "    </tr>\n",
       "    <tr>\n",
       "      <th>53939</th>\n",
       "      <td>0.75</td>\n",
       "      <td>2</td>\n",
       "      <td>D</td>\n",
       "      <td>SI2</td>\n",
       "      <td>62.2</td>\n",
       "      <td>55.0</td>\n",
       "      <td>2757</td>\n",
       "      <td>5.83</td>\n",
       "      <td>5.87</td>\n",
       "      <td>3.64</td>\n",
       "    </tr>\n",
       "  </tbody>\n",
       "</table>\n",
       "</div>"
      ],
      "text/plain": [
       "       carat  cut color clarity  depth  table  price     x     y     z\n",
       "53935   0.72    2     D     SI1   60.8   57.0   2757  5.75  5.76  3.50\n",
       "53936   0.72    1     D     SI1   63.1   55.0   2757  5.69  5.75  3.61\n",
       "53937   0.70    4     D     SI1   62.8   60.0   2757  5.66  5.68  3.56\n",
       "53938   0.86    3     H     SI2   61.0   58.0   2757  6.15  6.12  3.74\n",
       "53939   0.75    2     D     SI2   62.2   55.0   2757  5.83  5.87  3.64"
      ]
     },
     "execution_count": 16,
     "metadata": {},
     "output_type": "execute_result"
    }
   ],
   "source": [
    "df.tail()"
   ]
  },
  {
   "cell_type": "code",
   "execution_count": 17,
   "id": "89711a9a",
   "metadata": {
    "execution": {
     "iopub.execute_input": "2023-08-14T13:02:10.675552Z",
     "iopub.status.busy": "2023-08-14T13:02:10.675124Z",
     "iopub.status.idle": "2023-08-14T13:02:10.691524Z",
     "shell.execute_reply": "2023-08-14T13:02:10.690016Z"
    },
    "papermill": {
     "duration": 0.036788,
     "end_time": "2023-08-14T13:02:10.694350",
     "exception": false,
     "start_time": "2023-08-14T13:02:10.657562",
     "status": "completed"
    },
    "tags": []
   },
   "outputs": [
    {
     "name": "stdout",
     "output_type": "stream",
     "text": [
      "['E' 'I' 'J' 'H' 'F' 'G' 'D']\n",
      "_____________________________________________________________\n",
      "['SI2' 'SI1' 'VS1' 'VS2' 'VVS2' 'VVS1' 'I1' 'IF']\n"
     ]
    }
   ],
   "source": [
    "colors=df['color'].unique()\n",
    "claritys=df['clarity'].unique()\n",
    "print(colors)\n",
    "print('_____________________________________________________________')\n",
    "print(claritys)"
   ]
  },
  {
   "cell_type": "code",
   "execution_count": 18,
   "id": "8d8e0d72",
   "metadata": {
    "execution": {
     "iopub.execute_input": "2023-08-14T13:02:10.729265Z",
     "iopub.status.busy": "2023-08-14T13:02:10.728821Z",
     "iopub.status.idle": "2023-08-14T13:02:10.771194Z",
     "shell.execute_reply": "2023-08-14T13:02:10.770021Z"
    },
    "papermill": {
     "duration": 0.063554,
     "end_time": "2023-08-14T13:02:10.774205",
     "exception": false,
     "start_time": "2023-08-14T13:02:10.710651",
     "status": "completed"
    },
    "tags": []
   },
   "outputs": [],
   "source": [
    "df['color']=le.fit_transform(df['color'])\n",
    "df['clarity']=le.fit_transform(df['clarity'])"
   ]
  },
  {
   "cell_type": "code",
   "execution_count": 19,
   "id": "bbaf0664",
   "metadata": {
    "execution": {
     "iopub.execute_input": "2023-08-14T13:02:10.809176Z",
     "iopub.status.busy": "2023-08-14T13:02:10.808802Z",
     "iopub.status.idle": "2023-08-14T13:02:10.828897Z",
     "shell.execute_reply": "2023-08-14T13:02:10.827557Z"
    },
    "papermill": {
     "duration": 0.040472,
     "end_time": "2023-08-14T13:02:10.831391",
     "exception": false,
     "start_time": "2023-08-14T13:02:10.790919",
     "status": "completed"
    },
    "tags": []
   },
   "outputs": [
    {
     "data": {
      "text/html": [
       "<div>\n",
       "<style scoped>\n",
       "    .dataframe tbody tr th:only-of-type {\n",
       "        vertical-align: middle;\n",
       "    }\n",
       "\n",
       "    .dataframe tbody tr th {\n",
       "        vertical-align: top;\n",
       "    }\n",
       "\n",
       "    .dataframe thead th {\n",
       "        text-align: right;\n",
       "    }\n",
       "</style>\n",
       "<table border=\"1\" class=\"dataframe\">\n",
       "  <thead>\n",
       "    <tr style=\"text-align: right;\">\n",
       "      <th></th>\n",
       "      <th>carat</th>\n",
       "      <th>cut</th>\n",
       "      <th>color</th>\n",
       "      <th>clarity</th>\n",
       "      <th>depth</th>\n",
       "      <th>table</th>\n",
       "      <th>price</th>\n",
       "      <th>x</th>\n",
       "      <th>y</th>\n",
       "      <th>z</th>\n",
       "    </tr>\n",
       "  </thead>\n",
       "  <tbody>\n",
       "    <tr>\n",
       "      <th>0</th>\n",
       "      <td>0.23</td>\n",
       "      <td>2</td>\n",
       "      <td>1</td>\n",
       "      <td>3</td>\n",
       "      <td>61.5</td>\n",
       "      <td>55.0</td>\n",
       "      <td>326</td>\n",
       "      <td>3.95</td>\n",
       "      <td>3.98</td>\n",
       "      <td>2.43</td>\n",
       "    </tr>\n",
       "    <tr>\n",
       "      <th>1</th>\n",
       "      <td>0.21</td>\n",
       "      <td>3</td>\n",
       "      <td>1</td>\n",
       "      <td>2</td>\n",
       "      <td>59.8</td>\n",
       "      <td>61.0</td>\n",
       "      <td>326</td>\n",
       "      <td>3.89</td>\n",
       "      <td>3.84</td>\n",
       "      <td>2.31</td>\n",
       "    </tr>\n",
       "    <tr>\n",
       "      <th>2</th>\n",
       "      <td>0.23</td>\n",
       "      <td>1</td>\n",
       "      <td>1</td>\n",
       "      <td>4</td>\n",
       "      <td>56.9</td>\n",
       "      <td>65.0</td>\n",
       "      <td>327</td>\n",
       "      <td>4.05</td>\n",
       "      <td>4.07</td>\n",
       "      <td>2.31</td>\n",
       "    </tr>\n",
       "    <tr>\n",
       "      <th>3</th>\n",
       "      <td>0.29</td>\n",
       "      <td>3</td>\n",
       "      <td>5</td>\n",
       "      <td>5</td>\n",
       "      <td>62.4</td>\n",
       "      <td>58.0</td>\n",
       "      <td>334</td>\n",
       "      <td>4.20</td>\n",
       "      <td>4.23</td>\n",
       "      <td>2.63</td>\n",
       "    </tr>\n",
       "    <tr>\n",
       "      <th>4</th>\n",
       "      <td>0.31</td>\n",
       "      <td>1</td>\n",
       "      <td>6</td>\n",
       "      <td>3</td>\n",
       "      <td>63.3</td>\n",
       "      <td>58.0</td>\n",
       "      <td>335</td>\n",
       "      <td>4.34</td>\n",
       "      <td>4.35</td>\n",
       "      <td>2.75</td>\n",
       "    </tr>\n",
       "  </tbody>\n",
       "</table>\n",
       "</div>"
      ],
      "text/plain": [
       "   carat  cut  color  clarity  depth  table  price     x     y     z\n",
       "0   0.23    2      1        3   61.5   55.0    326  3.95  3.98  2.43\n",
       "1   0.21    3      1        2   59.8   61.0    326  3.89  3.84  2.31\n",
       "2   0.23    1      1        4   56.9   65.0    327  4.05  4.07  2.31\n",
       "3   0.29    3      5        5   62.4   58.0    334  4.20  4.23  2.63\n",
       "4   0.31    1      6        3   63.3   58.0    335  4.34  4.35  2.75"
      ]
     },
     "execution_count": 19,
     "metadata": {},
     "output_type": "execute_result"
    }
   ],
   "source": [
    "df.head()"
   ]
  },
  {
   "cell_type": "code",
   "execution_count": 20,
   "id": "20208693",
   "metadata": {
    "execution": {
     "iopub.execute_input": "2023-08-14T13:02:10.865520Z",
     "iopub.status.busy": "2023-08-14T13:02:10.865009Z",
     "iopub.status.idle": "2023-08-14T13:02:10.914723Z",
     "shell.execute_reply": "2023-08-14T13:02:10.913356Z"
    },
    "papermill": {
     "duration": 0.070009,
     "end_time": "2023-08-14T13:02:10.917464",
     "exception": false,
     "start_time": "2023-08-14T13:02:10.847455",
     "status": "completed"
    },
    "tags": []
   },
   "outputs": [
    {
     "data": {
      "text/html": [
       "<div>\n",
       "<style scoped>\n",
       "    .dataframe tbody tr th:only-of-type {\n",
       "        vertical-align: middle;\n",
       "    }\n",
       "\n",
       "    .dataframe tbody tr th {\n",
       "        vertical-align: top;\n",
       "    }\n",
       "\n",
       "    .dataframe thead th {\n",
       "        text-align: right;\n",
       "    }\n",
       "</style>\n",
       "<table border=\"1\" class=\"dataframe\">\n",
       "  <thead>\n",
       "    <tr style=\"text-align: right;\">\n",
       "      <th></th>\n",
       "      <th>carat</th>\n",
       "      <th>cut</th>\n",
       "      <th>color</th>\n",
       "      <th>clarity</th>\n",
       "      <th>depth</th>\n",
       "      <th>table</th>\n",
       "      <th>price</th>\n",
       "      <th>x</th>\n",
       "      <th>y</th>\n",
       "      <th>z</th>\n",
       "    </tr>\n",
       "  </thead>\n",
       "  <tbody>\n",
       "    <tr>\n",
       "      <th>0</th>\n",
       "      <td>0.23</td>\n",
       "      <td>2</td>\n",
       "      <td>1</td>\n",
       "      <td>3</td>\n",
       "      <td>61.5</td>\n",
       "      <td>55.0</td>\n",
       "      <td>326</td>\n",
       "      <td>3.95</td>\n",
       "      <td>3.98</td>\n",
       "      <td>2.43</td>\n",
       "    </tr>\n",
       "    <tr>\n",
       "      <th>1</th>\n",
       "      <td>0.21</td>\n",
       "      <td>3</td>\n",
       "      <td>1</td>\n",
       "      <td>2</td>\n",
       "      <td>59.8</td>\n",
       "      <td>61.0</td>\n",
       "      <td>326</td>\n",
       "      <td>3.89</td>\n",
       "      <td>3.84</td>\n",
       "      <td>2.31</td>\n",
       "    </tr>\n",
       "    <tr>\n",
       "      <th>2</th>\n",
       "      <td>0.23</td>\n",
       "      <td>1</td>\n",
       "      <td>1</td>\n",
       "      <td>4</td>\n",
       "      <td>56.9</td>\n",
       "      <td>65.0</td>\n",
       "      <td>327</td>\n",
       "      <td>4.05</td>\n",
       "      <td>4.07</td>\n",
       "      <td>2.31</td>\n",
       "    </tr>\n",
       "    <tr>\n",
       "      <th>3</th>\n",
       "      <td>0.29</td>\n",
       "      <td>3</td>\n",
       "      <td>5</td>\n",
       "      <td>5</td>\n",
       "      <td>62.4</td>\n",
       "      <td>58.0</td>\n",
       "      <td>334</td>\n",
       "      <td>4.20</td>\n",
       "      <td>4.23</td>\n",
       "      <td>2.63</td>\n",
       "    </tr>\n",
       "    <tr>\n",
       "      <th>4</th>\n",
       "      <td>0.31</td>\n",
       "      <td>1</td>\n",
       "      <td>6</td>\n",
       "      <td>3</td>\n",
       "      <td>63.3</td>\n",
       "      <td>58.0</td>\n",
       "      <td>335</td>\n",
       "      <td>4.34</td>\n",
       "      <td>4.35</td>\n",
       "      <td>2.75</td>\n",
       "    </tr>\n",
       "    <tr>\n",
       "      <th>...</th>\n",
       "      <td>...</td>\n",
       "      <td>...</td>\n",
       "      <td>...</td>\n",
       "      <td>...</td>\n",
       "      <td>...</td>\n",
       "      <td>...</td>\n",
       "      <td>...</td>\n",
       "      <td>...</td>\n",
       "      <td>...</td>\n",
       "      <td>...</td>\n",
       "    </tr>\n",
       "    <tr>\n",
       "      <th>53935</th>\n",
       "      <td>0.72</td>\n",
       "      <td>2</td>\n",
       "      <td>0</td>\n",
       "      <td>2</td>\n",
       "      <td>60.8</td>\n",
       "      <td>57.0</td>\n",
       "      <td>2757</td>\n",
       "      <td>5.75</td>\n",
       "      <td>5.76</td>\n",
       "      <td>3.50</td>\n",
       "    </tr>\n",
       "    <tr>\n",
       "      <th>53936</th>\n",
       "      <td>0.72</td>\n",
       "      <td>1</td>\n",
       "      <td>0</td>\n",
       "      <td>2</td>\n",
       "      <td>63.1</td>\n",
       "      <td>55.0</td>\n",
       "      <td>2757</td>\n",
       "      <td>5.69</td>\n",
       "      <td>5.75</td>\n",
       "      <td>3.61</td>\n",
       "    </tr>\n",
       "    <tr>\n",
       "      <th>53937</th>\n",
       "      <td>0.70</td>\n",
       "      <td>4</td>\n",
       "      <td>0</td>\n",
       "      <td>2</td>\n",
       "      <td>62.8</td>\n",
       "      <td>60.0</td>\n",
       "      <td>2757</td>\n",
       "      <td>5.66</td>\n",
       "      <td>5.68</td>\n",
       "      <td>3.56</td>\n",
       "    </tr>\n",
       "    <tr>\n",
       "      <th>53938</th>\n",
       "      <td>0.86</td>\n",
       "      <td>3</td>\n",
       "      <td>4</td>\n",
       "      <td>3</td>\n",
       "      <td>61.0</td>\n",
       "      <td>58.0</td>\n",
       "      <td>2757</td>\n",
       "      <td>6.15</td>\n",
       "      <td>6.12</td>\n",
       "      <td>3.74</td>\n",
       "    </tr>\n",
       "    <tr>\n",
       "      <th>53939</th>\n",
       "      <td>0.75</td>\n",
       "      <td>2</td>\n",
       "      <td>0</td>\n",
       "      <td>3</td>\n",
       "      <td>62.2</td>\n",
       "      <td>55.0</td>\n",
       "      <td>2757</td>\n",
       "      <td>5.83</td>\n",
       "      <td>5.87</td>\n",
       "      <td>3.64</td>\n",
       "    </tr>\n",
       "  </tbody>\n",
       "</table>\n",
       "<p>53794 rows × 10 columns</p>\n",
       "</div>"
      ],
      "text/plain": [
       "       carat  cut  color  clarity  depth  table  price     x     y     z\n",
       "0       0.23    2      1        3   61.5   55.0    326  3.95  3.98  2.43\n",
       "1       0.21    3      1        2   59.8   61.0    326  3.89  3.84  2.31\n",
       "2       0.23    1      1        4   56.9   65.0    327  4.05  4.07  2.31\n",
       "3       0.29    3      5        5   62.4   58.0    334  4.20  4.23  2.63\n",
       "4       0.31    1      6        3   63.3   58.0    335  4.34  4.35  2.75\n",
       "...      ...  ...    ...      ...    ...    ...    ...   ...   ...   ...\n",
       "53935   0.72    2      0        2   60.8   57.0   2757  5.75  5.76  3.50\n",
       "53936   0.72    1      0        2   63.1   55.0   2757  5.69  5.75  3.61\n",
       "53937   0.70    4      0        2   62.8   60.0   2757  5.66  5.68  3.56\n",
       "53938   0.86    3      4        3   61.0   58.0   2757  6.15  6.12  3.74\n",
       "53939   0.75    2      0        3   62.2   55.0   2757  5.83  5.87  3.64\n",
       "\n",
       "[53794 rows x 10 columns]"
      ]
     },
     "execution_count": 20,
     "metadata": {},
     "output_type": "execute_result"
    }
   ],
   "source": [
    "df.drop_duplicates()"
   ]
  },
  {
   "cell_type": "code",
   "execution_count": 21,
   "id": "2c33b278",
   "metadata": {
    "execution": {
     "iopub.execute_input": "2023-08-14T13:02:10.952760Z",
     "iopub.status.busy": "2023-08-14T13:02:10.952326Z",
     "iopub.status.idle": "2023-08-14T13:02:10.958516Z",
     "shell.execute_reply": "2023-08-14T13:02:10.957086Z"
    },
    "papermill": {
     "duration": 0.026933,
     "end_time": "2023-08-14T13:02:10.961001",
     "exception": false,
     "start_time": "2023-08-14T13:02:10.934068",
     "status": "completed"
    },
    "tags": []
   },
   "outputs": [],
   "source": [
    "scale=StandardScaler()\n"
   ]
  },
  {
   "cell_type": "code",
   "execution_count": 22,
   "id": "e36ca22b",
   "metadata": {
    "execution": {
     "iopub.execute_input": "2023-08-14T13:02:10.996106Z",
     "iopub.status.busy": "2023-08-14T13:02:10.995666Z",
     "iopub.status.idle": "2023-08-14T13:02:11.007930Z",
     "shell.execute_reply": "2023-08-14T13:02:11.006665Z"
    },
    "papermill": {
     "duration": 0.032975,
     "end_time": "2023-08-14T13:02:11.010454",
     "exception": false,
     "start_time": "2023-08-14T13:02:10.977479",
     "status": "completed"
    },
    "tags": []
   },
   "outputs": [],
   "source": [
    "X=df.drop(columns='price',axis=1)\n",
    "Y=df['price']"
   ]
  },
  {
   "cell_type": "code",
   "execution_count": 23,
   "id": "ae6776ee",
   "metadata": {
    "execution": {
     "iopub.execute_input": "2023-08-14T13:02:11.045396Z",
     "iopub.status.busy": "2023-08-14T13:02:11.044933Z",
     "iopub.status.idle": "2023-08-14T13:02:11.068927Z",
     "shell.execute_reply": "2023-08-14T13:02:11.067849Z"
    },
    "papermill": {
     "duration": 0.044276,
     "end_time": "2023-08-14T13:02:11.071162",
     "exception": false,
     "start_time": "2023-08-14T13:02:11.026886",
     "status": "completed"
    },
    "tags": []
   },
   "outputs": [
    {
     "data": {
      "text/html": [
       "<div>\n",
       "<style scoped>\n",
       "    .dataframe tbody tr th:only-of-type {\n",
       "        vertical-align: middle;\n",
       "    }\n",
       "\n",
       "    .dataframe tbody tr th {\n",
       "        vertical-align: top;\n",
       "    }\n",
       "\n",
       "    .dataframe thead th {\n",
       "        text-align: right;\n",
       "    }\n",
       "</style>\n",
       "<table border=\"1\" class=\"dataframe\">\n",
       "  <thead>\n",
       "    <tr style=\"text-align: right;\">\n",
       "      <th></th>\n",
       "      <th>carat</th>\n",
       "      <th>cut</th>\n",
       "      <th>color</th>\n",
       "      <th>clarity</th>\n",
       "      <th>depth</th>\n",
       "      <th>table</th>\n",
       "      <th>x</th>\n",
       "      <th>y</th>\n",
       "      <th>z</th>\n",
       "    </tr>\n",
       "  </thead>\n",
       "  <tbody>\n",
       "    <tr>\n",
       "      <th>0</th>\n",
       "      <td>0.23</td>\n",
       "      <td>2</td>\n",
       "      <td>1</td>\n",
       "      <td>3</td>\n",
       "      <td>61.5</td>\n",
       "      <td>55.0</td>\n",
       "      <td>3.95</td>\n",
       "      <td>3.98</td>\n",
       "      <td>2.43</td>\n",
       "    </tr>\n",
       "    <tr>\n",
       "      <th>1</th>\n",
       "      <td>0.21</td>\n",
       "      <td>3</td>\n",
       "      <td>1</td>\n",
       "      <td>2</td>\n",
       "      <td>59.8</td>\n",
       "      <td>61.0</td>\n",
       "      <td>3.89</td>\n",
       "      <td>3.84</td>\n",
       "      <td>2.31</td>\n",
       "    </tr>\n",
       "    <tr>\n",
       "      <th>2</th>\n",
       "      <td>0.23</td>\n",
       "      <td>1</td>\n",
       "      <td>1</td>\n",
       "      <td>4</td>\n",
       "      <td>56.9</td>\n",
       "      <td>65.0</td>\n",
       "      <td>4.05</td>\n",
       "      <td>4.07</td>\n",
       "      <td>2.31</td>\n",
       "    </tr>\n",
       "    <tr>\n",
       "      <th>3</th>\n",
       "      <td>0.29</td>\n",
       "      <td>3</td>\n",
       "      <td>5</td>\n",
       "      <td>5</td>\n",
       "      <td>62.4</td>\n",
       "      <td>58.0</td>\n",
       "      <td>4.20</td>\n",
       "      <td>4.23</td>\n",
       "      <td>2.63</td>\n",
       "    </tr>\n",
       "    <tr>\n",
       "      <th>4</th>\n",
       "      <td>0.31</td>\n",
       "      <td>1</td>\n",
       "      <td>6</td>\n",
       "      <td>3</td>\n",
       "      <td>63.3</td>\n",
       "      <td>58.0</td>\n",
       "      <td>4.34</td>\n",
       "      <td>4.35</td>\n",
       "      <td>2.75</td>\n",
       "    </tr>\n",
       "    <tr>\n",
       "      <th>...</th>\n",
       "      <td>...</td>\n",
       "      <td>...</td>\n",
       "      <td>...</td>\n",
       "      <td>...</td>\n",
       "      <td>...</td>\n",
       "      <td>...</td>\n",
       "      <td>...</td>\n",
       "      <td>...</td>\n",
       "      <td>...</td>\n",
       "    </tr>\n",
       "    <tr>\n",
       "      <th>53935</th>\n",
       "      <td>0.72</td>\n",
       "      <td>2</td>\n",
       "      <td>0</td>\n",
       "      <td>2</td>\n",
       "      <td>60.8</td>\n",
       "      <td>57.0</td>\n",
       "      <td>5.75</td>\n",
       "      <td>5.76</td>\n",
       "      <td>3.50</td>\n",
       "    </tr>\n",
       "    <tr>\n",
       "      <th>53936</th>\n",
       "      <td>0.72</td>\n",
       "      <td>1</td>\n",
       "      <td>0</td>\n",
       "      <td>2</td>\n",
       "      <td>63.1</td>\n",
       "      <td>55.0</td>\n",
       "      <td>5.69</td>\n",
       "      <td>5.75</td>\n",
       "      <td>3.61</td>\n",
       "    </tr>\n",
       "    <tr>\n",
       "      <th>53937</th>\n",
       "      <td>0.70</td>\n",
       "      <td>4</td>\n",
       "      <td>0</td>\n",
       "      <td>2</td>\n",
       "      <td>62.8</td>\n",
       "      <td>60.0</td>\n",
       "      <td>5.66</td>\n",
       "      <td>5.68</td>\n",
       "      <td>3.56</td>\n",
       "    </tr>\n",
       "    <tr>\n",
       "      <th>53938</th>\n",
       "      <td>0.86</td>\n",
       "      <td>3</td>\n",
       "      <td>4</td>\n",
       "      <td>3</td>\n",
       "      <td>61.0</td>\n",
       "      <td>58.0</td>\n",
       "      <td>6.15</td>\n",
       "      <td>6.12</td>\n",
       "      <td>3.74</td>\n",
       "    </tr>\n",
       "    <tr>\n",
       "      <th>53939</th>\n",
       "      <td>0.75</td>\n",
       "      <td>2</td>\n",
       "      <td>0</td>\n",
       "      <td>3</td>\n",
       "      <td>62.2</td>\n",
       "      <td>55.0</td>\n",
       "      <td>5.83</td>\n",
       "      <td>5.87</td>\n",
       "      <td>3.64</td>\n",
       "    </tr>\n",
       "  </tbody>\n",
       "</table>\n",
       "<p>53940 rows × 9 columns</p>\n",
       "</div>"
      ],
      "text/plain": [
       "       carat  cut  color  clarity  depth  table     x     y     z\n",
       "0       0.23    2      1        3   61.5   55.0  3.95  3.98  2.43\n",
       "1       0.21    3      1        2   59.8   61.0  3.89  3.84  2.31\n",
       "2       0.23    1      1        4   56.9   65.0  4.05  4.07  2.31\n",
       "3       0.29    3      5        5   62.4   58.0  4.20  4.23  2.63\n",
       "4       0.31    1      6        3   63.3   58.0  4.34  4.35  2.75\n",
       "...      ...  ...    ...      ...    ...    ...   ...   ...   ...\n",
       "53935   0.72    2      0        2   60.8   57.0  5.75  5.76  3.50\n",
       "53936   0.72    1      0        2   63.1   55.0  5.69  5.75  3.61\n",
       "53937   0.70    4      0        2   62.8   60.0  5.66  5.68  3.56\n",
       "53938   0.86    3      4        3   61.0   58.0  6.15  6.12  3.74\n",
       "53939   0.75    2      0        3   62.2   55.0  5.83  5.87  3.64\n",
       "\n",
       "[53940 rows x 9 columns]"
      ]
     },
     "execution_count": 23,
     "metadata": {},
     "output_type": "execute_result"
    }
   ],
   "source": [
    "X"
   ]
  },
  {
   "cell_type": "code",
   "execution_count": 24,
   "id": "0c8b8e7a",
   "metadata": {
    "execution": {
     "iopub.execute_input": "2023-08-14T13:02:11.108245Z",
     "iopub.status.busy": "2023-08-14T13:02:11.107876Z",
     "iopub.status.idle": "2023-08-14T13:02:11.116280Z",
     "shell.execute_reply": "2023-08-14T13:02:11.115220Z"
    },
    "papermill": {
     "duration": 0.029679,
     "end_time": "2023-08-14T13:02:11.118603",
     "exception": false,
     "start_time": "2023-08-14T13:02:11.088924",
     "status": "completed"
    },
    "tags": []
   },
   "outputs": [
    {
     "data": {
      "text/plain": [
       "0         326\n",
       "1         326\n",
       "2         327\n",
       "3         334\n",
       "4         335\n",
       "         ... \n",
       "53935    2757\n",
       "53936    2757\n",
       "53937    2757\n",
       "53938    2757\n",
       "53939    2757\n",
       "Name: price, Length: 53940, dtype: int64"
      ]
     },
     "execution_count": 24,
     "metadata": {},
     "output_type": "execute_result"
    }
   ],
   "source": [
    "Y"
   ]
  },
  {
   "cell_type": "code",
   "execution_count": 25,
   "id": "aeb622ca",
   "metadata": {
    "execution": {
     "iopub.execute_input": "2023-08-14T13:02:11.155952Z",
     "iopub.status.busy": "2023-08-14T13:02:11.154831Z",
     "iopub.status.idle": "2023-08-14T13:02:11.176680Z",
     "shell.execute_reply": "2023-08-14T13:02:11.175755Z"
    },
    "papermill": {
     "duration": 0.043495,
     "end_time": "2023-08-14T13:02:11.179689",
     "exception": false,
     "start_time": "2023-08-14T13:02:11.136194",
     "status": "completed"
    },
    "tags": []
   },
   "outputs": [],
   "source": [
    "X=scale.fit_transform(X)"
   ]
  },
  {
   "cell_type": "code",
   "execution_count": 26,
   "id": "871adca1",
   "metadata": {
    "execution": {
     "iopub.execute_input": "2023-08-14T13:02:11.216639Z",
     "iopub.status.busy": "2023-08-14T13:02:11.215724Z",
     "iopub.status.idle": "2023-08-14T13:02:11.224648Z",
     "shell.execute_reply": "2023-08-14T13:02:11.223365Z"
    },
    "papermill": {
     "duration": 0.029791,
     "end_time": "2023-08-14T13:02:11.226911",
     "exception": false,
     "start_time": "2023-08-14T13:02:11.197120",
     "status": "completed"
    },
    "tags": []
   },
   "outputs": [
    {
     "data": {
      "text/plain": [
       "array([[-1.19816781, -0.53809897, -0.93716275, ..., -1.58783745,\n",
       "        -1.53619556, -1.57112919],\n",
       "       [-1.24036129,  0.43494935, -0.93716275, ..., -1.64132529,\n",
       "        -1.65877419, -1.74117497],\n",
       "       [-1.19816781, -1.51114729, -0.93716275, ..., -1.49869105,\n",
       "        -1.45739502, -1.74117497],\n",
       "       ...,\n",
       "       [-0.20662095,  1.40799767, -1.52502147, ..., -0.06343409,\n",
       "        -0.04774083,  0.03013526],\n",
       "       [ 0.13092691,  0.43494935,  0.8264134 , ...,  0.37338325,\n",
       "         0.33750627,  0.28520393],\n",
       "       [-0.10113725, -0.53809897, -1.52502147, ...,  0.08811478,\n",
       "         0.11861587,  0.14349912]])"
      ]
     },
     "execution_count": 26,
     "metadata": {},
     "output_type": "execute_result"
    }
   ],
   "source": [
    "X"
   ]
  },
  {
   "cell_type": "code",
   "execution_count": 27,
   "id": "86e1ef2f",
   "metadata": {
    "execution": {
     "iopub.execute_input": "2023-08-14T13:02:11.263751Z",
     "iopub.status.busy": "2023-08-14T13:02:11.263005Z",
     "iopub.status.idle": "2023-08-14T13:02:11.277898Z",
     "shell.execute_reply": "2023-08-14T13:02:11.276874Z"
    },
    "papermill": {
     "duration": 0.036052,
     "end_time": "2023-08-14T13:02:11.280231",
     "exception": false,
     "start_time": "2023-08-14T13:02:11.244179",
     "status": "completed"
    },
    "tags": []
   },
   "outputs": [],
   "source": [
    "x_train,x_test,y_train,y_test=train_test_split(X,Y,test_size=.3,shuffle=True,random_state=2)"
   ]
  },
  {
   "cell_type": "code",
   "execution_count": 28,
   "id": "e0020342",
   "metadata": {
    "execution": {
     "iopub.execute_input": "2023-08-14T13:02:11.317134Z",
     "iopub.status.busy": "2023-08-14T13:02:11.316444Z",
     "iopub.status.idle": "2023-08-14T13:02:11.326085Z",
     "shell.execute_reply": "2023-08-14T13:02:11.325185Z"
    },
    "papermill": {
     "duration": 0.03109,
     "end_time": "2023-08-14T13:02:11.328588",
     "exception": false,
     "start_time": "2023-08-14T13:02:11.297498",
     "status": "completed"
    },
    "tags": []
   },
   "outputs": [],
   "source": [
    "X_test,x_val,Y_test,y_val=train_test_split(x_test,y_test,test_size=.1)"
   ]
  },
  {
   "cell_type": "code",
   "execution_count": 29,
   "id": "6a1843ee",
   "metadata": {
    "execution": {
     "iopub.execute_input": "2023-08-14T13:02:11.366309Z",
     "iopub.status.busy": "2023-08-14T13:02:11.365603Z",
     "iopub.status.idle": "2023-08-14T13:02:11.372910Z",
     "shell.execute_reply": "2023-08-14T13:02:11.371143Z"
    },
    "papermill": {
     "duration": 0.029303,
     "end_time": "2023-08-14T13:02:11.375376",
     "exception": false,
     "start_time": "2023-08-14T13:02:11.346073",
     "status": "completed"
    },
    "tags": []
   },
   "outputs": [
    {
     "name": "stdout",
     "output_type": "stream",
     "text": [
      "(37758, 9)\n",
      "(14563, 9)\n",
      "(1619, 9)\n",
      "(37758,)\n",
      "(14563,)\n",
      "(1619,)\n"
     ]
    }
   ],
   "source": [
    "print(x_train.shape)\n",
    "print(X_test.shape)\n",
    "print(x_val.shape)\n",
    "print(y_train.shape)\n",
    "print(Y_test.shape)\n",
    "print(y_val.shape)"
   ]
  },
  {
   "cell_type": "code",
   "execution_count": 30,
   "id": "37c4908d",
   "metadata": {
    "execution": {
     "iopub.execute_input": "2023-08-14T13:02:11.412389Z",
     "iopub.status.busy": "2023-08-14T13:02:11.411833Z",
     "iopub.status.idle": "2023-08-14T13:02:11.626123Z",
     "shell.execute_reply": "2023-08-14T13:02:11.624957Z"
    },
    "papermill": {
     "duration": 0.23691,
     "end_time": "2023-08-14T13:02:11.629425",
     "exception": false,
     "start_time": "2023-08-14T13:02:11.392515",
     "status": "completed"
    },
    "tags": []
   },
   "outputs": [],
   "source": [
    "model=keras.Sequential([\n",
    "    Dense(64,activation='relu',input_shape=(9,)),\n",
    "    Dense(64,activation='relu',input_shape=(9,)),\n",
    "    Dense(1)\n",
    "])"
   ]
  },
  {
   "cell_type": "code",
   "execution_count": 31,
   "id": "2553aea7",
   "metadata": {
    "execution": {
     "iopub.execute_input": "2023-08-14T13:02:11.667718Z",
     "iopub.status.busy": "2023-08-14T13:02:11.666759Z",
     "iopub.status.idle": "2023-08-14T13:02:11.689849Z",
     "shell.execute_reply": "2023-08-14T13:02:11.688548Z"
    },
    "papermill": {
     "duration": 0.045564,
     "end_time": "2023-08-14T13:02:11.692628",
     "exception": false,
     "start_time": "2023-08-14T13:02:11.647064",
     "status": "completed"
    },
    "tags": []
   },
   "outputs": [],
   "source": [
    "optmizer=tf.keras.optimizers.RMSprop(0.001)\n",
    "model.compile(optimizer=optmizer,loss='mean_squared_error',metrics=['mean_squared_error'])"
   ]
  },
  {
   "cell_type": "code",
   "execution_count": 32,
   "id": "271dc884",
   "metadata": {
    "execution": {
     "iopub.execute_input": "2023-08-14T13:02:11.729237Z",
     "iopub.status.busy": "2023-08-14T13:02:11.728800Z",
     "iopub.status.idle": "2023-08-14T13:02:17.669678Z",
     "shell.execute_reply": "2023-08-14T13:02:17.668506Z"
    },
    "papermill": {
     "duration": 5.962295,
     "end_time": "2023-08-14T13:02:17.672375",
     "exception": false,
     "start_time": "2023-08-14T13:02:11.710080",
     "status": "completed"
    },
    "tags": []
   },
   "outputs": [
    {
     "name": "stdout",
     "output_type": "stream",
     "text": [
      "Epoch 1/20\n",
      "76/76 - 1s - loss: 31395542.0000 - mean_squared_error: 31395542.0000 - val_loss: 30747390.0000 - val_mean_squared_error: 30747390.0000 - 1s/epoch - 16ms/step\n",
      "Epoch 2/20\n",
      "76/76 - 0s - loss: 30897154.0000 - mean_squared_error: 30897154.0000 - val_loss: 29941466.0000 - val_mean_squared_error: 29941466.0000 - 236ms/epoch - 3ms/step\n",
      "Epoch 3/20\n",
      "76/76 - 0s - loss: 29738116.0000 - mean_squared_error: 29738116.0000 - val_loss: 28347030.0000 - val_mean_squared_error: 28347030.0000 - 241ms/epoch - 3ms/step\n",
      "Epoch 4/20\n",
      "76/76 - 0s - loss: 27692416.0000 - mean_squared_error: 27692416.0000 - val_loss: 25793158.0000 - val_mean_squared_error: 25793158.0000 - 235ms/epoch - 3ms/step\n",
      "Epoch 5/20\n",
      "76/76 - 0s - loss: 24691520.0000 - mean_squared_error: 24691520.0000 - val_loss: 22241172.0000 - val_mean_squared_error: 22241172.0000 - 228ms/epoch - 3ms/step\n",
      "Epoch 6/20\n",
      "76/76 - 0s - loss: 20760936.0000 - mean_squared_error: 20760936.0000 - val_loss: 17878690.0000 - val_mean_squared_error: 17878690.0000 - 240ms/epoch - 3ms/step\n",
      "Epoch 7/20\n",
      "76/76 - 0s - loss: 16158305.0000 - mean_squared_error: 16158305.0000 - val_loss: 13073388.0000 - val_mean_squared_error: 13073388.0000 - 229ms/epoch - 3ms/step\n",
      "Epoch 8/20\n",
      "76/76 - 0s - loss: 11476625.0000 - mean_squared_error: 11476625.0000 - val_loss: 8556715.0000 - val_mean_squared_error: 8556715.0000 - 245ms/epoch - 3ms/step\n",
      "Epoch 9/20\n",
      "76/76 - 0s - loss: 7354940.5000 - mean_squared_error: 7354940.5000 - val_loss: 5032614.0000 - val_mean_squared_error: 5032614.0000 - 253ms/epoch - 3ms/step\n",
      "Epoch 10/20\n",
      "76/76 - 0s - loss: 4584710.5000 - mean_squared_error: 4584710.5000 - val_loss: 3184352.5000 - val_mean_squared_error: 3184352.5000 - 232ms/epoch - 3ms/step\n",
      "Epoch 11/20\n",
      "76/76 - 0s - loss: 3485244.5000 - mean_squared_error: 3485244.5000 - val_loss: 2660441.7500 - val_mean_squared_error: 2660441.7500 - 233ms/epoch - 3ms/step\n",
      "Epoch 12/20\n",
      "76/76 - 0s - loss: 3028662.5000 - mean_squared_error: 3028662.5000 - val_loss: 2289840.5000 - val_mean_squared_error: 2289840.5000 - 222ms/epoch - 3ms/step\n",
      "Epoch 13/20\n",
      "76/76 - 0s - loss: 2670976.7500 - mean_squared_error: 2670976.7500 - val_loss: 1985112.7500 - val_mean_squared_error: 1985112.7500 - 226ms/epoch - 3ms/step\n",
      "Epoch 14/20\n",
      "76/76 - 0s - loss: 2377035.5000 - mean_squared_error: 2377035.5000 - val_loss: 1751843.8750 - val_mean_squared_error: 1751843.8750 - 226ms/epoch - 3ms/step\n",
      "Epoch 15/20\n",
      "76/76 - 0s - loss: 2156419.2500 - mean_squared_error: 2156419.2500 - val_loss: 1568301.5000 - val_mean_squared_error: 1568301.5000 - 231ms/epoch - 3ms/step\n",
      "Epoch 16/20\n",
      "76/76 - 0s - loss: 1988857.3750 - mean_squared_error: 1988857.3750 - val_loss: 1444615.8750 - val_mean_squared_error: 1444615.8750 - 232ms/epoch - 3ms/step\n",
      "Epoch 17/20\n",
      "76/76 - 0s - loss: 1877756.8750 - mean_squared_error: 1877756.8750 - val_loss: 1353402.6250 - val_mean_squared_error: 1353402.6250 - 228ms/epoch - 3ms/step\n",
      "Epoch 18/20\n",
      "76/76 - 0s - loss: 1801279.1250 - mean_squared_error: 1801279.1250 - val_loss: 1303869.0000 - val_mean_squared_error: 1303869.0000 - 230ms/epoch - 3ms/step\n",
      "Epoch 19/20\n",
      "76/76 - 0s - loss: 1754428.5000 - mean_squared_error: 1754428.5000 - val_loss: 1265258.2500 - val_mean_squared_error: 1265258.2500 - 234ms/epoch - 3ms/step\n",
      "Epoch 20/20\n",
      "76/76 - 0s - loss: 1729895.3750 - mean_squared_error: 1729895.3750 - val_loss: 1244993.2500 - val_mean_squared_error: 1244993.2500 - 230ms/epoch - 3ms/step\n"
     ]
    }
   ],
   "source": [
    "history=model.fit(x_train,y_train,epochs=20,validation_data=(x_val,y_val),batch_size=500,verbose=2)"
   ]
  },
  {
   "cell_type": "code",
   "execution_count": 33,
   "id": "5f2c2981",
   "metadata": {
    "execution": {
     "iopub.execute_input": "2023-08-14T13:02:17.718358Z",
     "iopub.status.busy": "2023-08-14T13:02:17.717923Z",
     "iopub.status.idle": "2023-08-14T13:02:18.154887Z",
     "shell.execute_reply": "2023-08-14T13:02:18.153539Z"
    },
    "papermill": {
     "duration": 0.464267,
     "end_time": "2023-08-14T13:02:18.157999",
     "exception": false,
     "start_time": "2023-08-14T13:02:17.693732",
     "status": "completed"
    },
    "tags": []
   },
   "outputs": [
    {
     "data": {
      "text/plain": [
       "<matplotlib.legend.Legend at 0x7e61b56cafe0>"
      ]
     },
     "execution_count": 33,
     "metadata": {},
     "output_type": "execute_result"
    },
    {
     "data": {
      "image/png": "[encoded data removed]",
      "text/plain": [
       "<Figure size 640x480 with 1 Axes>"
      ]
     },
     "metadata": {},
     "output_type": "display_data"
    }
   ],
   "source": [
    "plt.plot(history.history['mean_squared_error'])\n",
    "plt.plot(history.history['val_mean_squared_error'])\n",
    "\n",
    "plt.title('model accuracy')\n",
    "plt.ylabel('accuracy')\n",
    "plt.xlabel('epoch')\n",
    "\n",
    "plt.legend(['training data', 'validation data'], loc = 'upper right')"
   ]
  },
  {
   "cell_type": "code",
   "execution_count": 34,
   "id": "e5f8d2a9",
   "metadata": {
    "execution": {
     "iopub.execute_input": "2023-08-14T13:02:18.205114Z",
     "iopub.status.busy": "2023-08-14T13:02:18.204687Z",
     "iopub.status.idle": "2023-08-14T13:02:18.604726Z",
     "shell.execute_reply": "2023-08-14T13:02:18.602821Z"
    },
    "papermill": {
     "duration": 0.427301,
     "end_time": "2023-08-14T13:02:18.607617",
     "exception": false,
     "start_time": "2023-08-14T13:02:18.180316",
     "status": "completed"
    },
    "tags": []
   },
   "outputs": [
    {
     "data": {
      "text/plain": [
       "<matplotlib.legend.Legend at 0x7e61b56de6e0>"
      ]
     },
     "execution_count": 34,
     "metadata": {},
     "output_type": "execute_result"
    },
    {
     "data": {
      "image/png": "[encoded data removed]",
      "text/plain": [
       "<Figure size 640x480 with 1 Axes>"
      ]
     },
     "metadata": {},
     "output_type": "display_data"
    }
   ],
   "source": [
    "plt.plot(history.history['loss'])\n",
    "plt.plot(history.history['val_loss'])\n",
    "\n",
    "plt.title('model loss')\n",
    "plt.ylabel('loss')\n",
    "plt.xlabel('epoch')\n",
    "\n",
    "plt.legend(['training data', 'validation data'], loc = 'upper right')"
   ]
  },
  {
   "cell_type": "code",
   "execution_count": 35,
   "id": "66d31d14",
   "metadata": {
    "execution": {
     "iopub.execute_input": "2023-08-14T13:02:18.655701Z",
     "iopub.status.busy": "2023-08-14T13:02:18.655180Z",
     "iopub.status.idle": "2023-08-14T13:02:19.377489Z",
     "shell.execute_reply": "2023-08-14T13:02:19.376058Z"
    },
    "papermill": {
     "duration": 0.74953,
     "end_time": "2023-08-14T13:02:19.380343",
     "exception": false,
     "start_time": "2023-08-14T13:02:18.630813",
     "status": "completed"
    },
    "tags": []
   },
   "outputs": [
    {
     "name": "stdout",
     "output_type": "stream",
     "text": [
      "456/456 [==============================] - 1s 1ms/step - loss: 1471798.5000 - mean_squared_error: 1471798.5000\n"
     ]
    }
   ],
   "source": [
    "test_loss, test_accuracy = model.evaluate(X_test,Y_test)"
   ]
  },
  {
   "cell_type": "code",
   "execution_count": 36,
   "id": "a44dd7fa",
   "metadata": {
    "execution": {
     "iopub.execute_input": "2023-08-14T13:02:19.431652Z",
     "iopub.status.busy": "2023-08-14T13:02:19.431154Z",
     "iopub.status.idle": "2023-08-14T13:02:19.550115Z",
     "shell.execute_reply": "2023-08-14T13:02:19.548578Z"
    },
    "papermill": {
     "duration": 0.147572,
     "end_time": "2023-08-14T13:02:19.552934",
     "exception": false,
     "start_time": "2023-08-14T13:02:19.405362",
     "status": "completed"
    },
    "tags": []
   },
   "outputs": [],
   "source": [
    "from sklearn.linear_model import LinearRegression\n",
    "reg = LinearRegression()"
   ]
  },
  {
   "cell_type": "code",
   "execution_count": 37,
   "id": "0592d8a0",
   "metadata": {
    "execution": {
     "iopub.execute_input": "2023-08-14T13:02:19.603532Z",
     "iopub.status.busy": "2023-08-14T13:02:19.602142Z",
     "iopub.status.idle": "2023-08-14T13:02:19.659603Z",
     "shell.execute_reply": "2023-08-14T13:02:19.658216Z"
    },
    "papermill": {
     "duration": 0.086538,
     "end_time": "2023-08-14T13:02:19.663523",
     "exception": false,
     "start_time": "2023-08-14T13:02:19.576985",
     "status": "completed"
    },
    "tags": []
   },
   "outputs": [
    {
     "data": {
      "text/html": [
       "<style>#sk-container-id-1 {color: black;background-color: white;}#sk-container-id-1 pre{padding: 0;}#sk-container-id-1 div.sk-toggleable {background-color: white;}#sk-container-id-1 label.sk-toggleable__label {cursor: pointer;display: block;width: 100%;margin-bottom: 0;padding: 0.3em;box-sizing: border-box;text-align: center;}#sk-container-id-1 label.sk-toggleable__label-arrow:before {content: \"▸\";float: left;margin-right: 0.25em;color: #696969;}#sk-container-id-1 label.sk-toggleable__label-arrow:hover:before {color: black;}#sk-container-id-1 div.sk-estimator:hover label.sk-toggleable__label-arrow:before {color: black;}#sk-container-id-1 div.sk-toggleable__content {max-height: 0;max-width: 0;overflow: hidden;text-align: left;background-color: #f0f8ff;}#sk-container-id-1 div.sk-toggleable__content pre {margin: 0.2em;color: black;border-radius: 0.25em;background-color: #f0f8ff;}#sk-container-id-1 input.sk-toggleable__control:checked~div.sk-toggleable__content {max-height: 200px;max-width: 100%;overflow: auto;}#sk-container-id-1 input.sk-toggleable__control:checked~label.sk-toggleable__label-arrow:before {content: \"▾\";}#sk-container-id-1 div.sk-estimator input.sk-toggleable__control:checked~label.sk-toggleable__label {background-color: #d4ebff;}#sk-container-id-1 div.sk-label input.sk-toggleable__control:checked~label.sk-toggleable__label {background-color: #d4ebff;}#sk-container-id-1 input.sk-hidden--visually {border: 0;clip: rect(1px 1px 1px 1px);clip: rect(1px, 1px, 1px, 1px);height: 1px;margin: -1px;overflow: hidden;padding: 0;position: absolute;width: 1px;}#sk-container-id-1 div.sk-estimator {font-family: monospace;background-color: #f0f8ff;border: 1px dotted black;border-radius: 0.25em;box-sizing: border-box;margin-bottom: 0.5em;}#sk-container-id-1 div.sk-estimator:hover {background-color: #d4ebff;}#sk-container-id-1 div.sk-parallel-item::after {content: \"\";width: 100%;border-bottom: 1px solid gray;flex-grow: 1;}#sk-container-id-1 div.sk-label:hover label.sk-toggleable__label {background-color: #d4ebff;}#sk-container-id-1 div.sk-serial::before {content: \"\";position: absolute;border-left: 1px solid gray;box-sizing: border-box;top: 0;bottom: 0;left: 50%;z-index: 0;}#sk-container-id-1 div.sk-serial {display: flex;flex-direction: column;align-items: center;background-color: white;padding-right: 0.2em;padding-left: 0.2em;position: relative;}#sk-container-id-1 div.sk-item {position: relative;z-index: 1;}#sk-container-id-1 div.sk-parallel {display: flex;align-items: stretch;justify-content: center;background-color: white;position: relative;}#sk-container-id-1 div.sk-item::before, #sk-container-id-1 div.sk-parallel-item::before {content: \"\";position: absolute;border-left: 1px solid gray;box-sizing: border-box;top: 0;bottom: 0;left: 50%;z-index: -1;}#sk-container-id-1 div.sk-parallel-item {display: flex;flex-direction: column;z-index: 1;position: relative;background-color: white;}#sk-container-id-1 div.sk-parallel-item:first-child::after {align-self: flex-end;width: 50%;}#sk-container-id-1 div.sk-parallel-item:last-child::after {align-self: flex-start;width: 50%;}#sk-container-id-1 div.sk-parallel-item:only-child::after {width: 0;}#sk-container-id-1 div.sk-dashed-wrapped {border: 1px dashed gray;margin: 0 0.4em 0.5em 0.4em;box-sizing: border-box;padding-bottom: 0.4em;background-color: white;}#sk-container-id-1 div.sk-label label {font-family: monospace;font-weight: bold;display: inline-block;line-height: 1.2em;}#sk-container-id-1 div.sk-label-container {text-align: center;}#sk-container-id-1 div.sk-container {/* jupyter's `normalize.less` sets `[hidden] { display: none; }` but bootstrap.min.css set `[hidden] { display: none !important; }` so we also need the `!important` here to be able to override the default hidden behavior on the sphinx rendered scikit-learn.org. See: https://github.com/scikit-learn/scikit-learn/issues/21755 */display: inline-block !important;position: relative;}#sk-container-id-1 div.sk-text-repr-fallback {display: none;}</style><div id=\"sk-container-id-1\" class=\"sk-top-container\"><div class=\"sk-text-repr-fallback\"><pre>LinearRegression()</pre><b>In a Jupyter environment, please rerun this cell to show the HTML representation or trust the notebook. <br />On GitHub, the HTML representation is unable to render, please try loading this page with nbviewer.org.</b></div><div class=\"sk-container\" hidden><div class=\"sk-item\"><div class=\"sk-estimator sk-toggleable\"><input class=\"sk-toggleable__control sk-hidden--visually\" id=\"sk-estimator-id-1\" type=\"checkbox\" checked><label for=\"sk-estimator-id-1\" class=\"sk-toggleable__label sk-toggleable__label-arrow\">LinearRegression</label><div class=\"sk-toggleable__content\"><pre>LinearRegression()</pre></div></div></div></div></div>"
      ],
      "text/plain": [
       "LinearRegression()"
      ]
     },
     "execution_count": 37,
     "metadata": {},
     "output_type": "execute_result"
    }
   ],
   "source": [
    "reg.fit(x_train,y_train)"
   ]
  },
  {
   "cell_type": "code",
   "execution_count": 38,
   "id": "94e4d4be",
   "metadata": {
    "execution": {
     "iopub.execute_input": "2023-08-14T13:02:19.731317Z",
     "iopub.status.busy": "2023-08-14T13:02:19.730067Z",
     "iopub.status.idle": "2023-08-14T13:02:19.741594Z",
     "shell.execute_reply": "2023-08-14T13:02:19.739641Z"
    },
    "papermill": {
     "duration": 0.042081,
     "end_time": "2023-08-14T13:02:19.746069",
     "exception": false,
     "start_time": "2023-08-14T13:02:19.703988",
     "status": "completed"
    },
    "tags": []
   },
   "outputs": [],
   "source": [
    "predicted = reg.predict(X_test)"
   ]
  },
  {
   "cell_type": "code",
   "execution_count": 39,
   "id": "96ef17b0",
   "metadata": {
    "execution": {
     "iopub.execute_input": "2023-08-14T13:02:19.857887Z",
     "iopub.status.busy": "2023-08-14T13:02:19.857443Z",
     "iopub.status.idle": "2023-08-14T13:02:19.866121Z",
     "shell.execute_reply": "2023-08-14T13:02:19.864159Z"
    },
    "papermill": {
     "duration": 0.068509,
     "end_time": "2023-08-14T13:02:19.870150",
     "exception": false,
     "start_time": "2023-08-14T13:02:19.801641",
     "status": "completed"
    },
    "tags": []
   },
   "outputs": [
    {
     "data": {
      "text/plain": [
       "array([ 345.22059392, 3379.64861643, 5325.5137493 , ...,  342.90429815,\n",
       "        375.73440908,  280.50549124])"
      ]
     },
     "execution_count": 39,
     "metadata": {},
     "output_type": "execute_result"
    }
   ],
   "source": [
    "predicted"
   ]
  },
  {
   "cell_type": "code",
   "execution_count": 40,
   "id": "0e1fc41b",
   "metadata": {
    "execution": {
     "iopub.execute_input": "2023-08-14T13:02:19.927309Z",
     "iopub.status.busy": "2023-08-14T13:02:19.926856Z",
     "iopub.status.idle": "2023-08-14T13:02:19.941334Z",
     "shell.execute_reply": "2023-08-14T13:02:19.939425Z"
    },
    "papermill": {
     "duration": 0.045907,
     "end_time": "2023-08-14T13:02:19.945607",
     "exception": false,
     "start_time": "2023-08-14T13:02:19.899700",
     "status": "completed"
    },
    "tags": []
   },
   "outputs": [
    {
     "name": "stdout",
     "output_type": "stream",
     "text": [
      "R^2 score:  0.8854971117583922\n"
     ]
    }
   ],
   "source": [
    "print('R^2 score: ',reg.score(x_train,y_train))"
   ]
  },
  {
   "cell_type": "code",
   "execution_count": null,
   "id": "5498d9a3",
   "metadata": {
    "papermill": {
     "duration": 0.052765,
     "end_time": "2023-08-14T13:02:20.051000",
     "exception": false,
     "start_time": "2023-08-14T13:02:19.998235",
     "status": "completed"
    },
    "tags": []
   },
   "outputs": [],
   "source": []
  },
  {
   "cell_type": "code",
   "execution_count": null,
   "id": "83c7826e",
   "metadata": {
    "papermill": {
     "duration": 0.024707,
     "end_time": "2023-08-14T13:02:20.100878",
     "exception": false,
     "start_time": "2023-08-14T13:02:20.076171",
     "status": "completed"
    },
    "tags": []
   },
   "outputs": [],
   "source": []
  }
 ],
 "metadata": {
  "kernelspec": {
   "display_name": "Python 3",
   "language": "python",
   "name": "python3"
  },
  "language_info": {
   "codemirror_mode": {
    "name": "ipython",
    "version": 3
   },
   "file_extension": ".py",
   "mimetype": "text/x-python",
   "name": "python",
   "nbconvert_exporter": "python",
   "pygments_lexer": "ipython3",
   "version": "3.10.12"
  },
  "papermill": {
   "default_parameters": {},
   "duration": 36.852902,
   "end_time": "2023-08-14T13:02:22.971617",
   "environment_variables": {},
   "exception": null,
   "input_path": "__notebook__.ipynb",
   "output_path": "__notebook__.ipynb",
   "parameters": {},
   "start_time": "2023-08-14T13:01:46.118715",
   "version": "2.4.0"
  }
 },
 "nbformat": 4,
 "nbformat_minor": 5
}
